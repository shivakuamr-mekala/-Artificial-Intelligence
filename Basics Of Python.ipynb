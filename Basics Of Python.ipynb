{
 "cells": [
  {
   "cell_type": "markdown",
   "id": "e6340a79",
   "metadata": {},
   "source": [
    "#### Exercise 1: Prime Numbers\n",
    "\n",
    "Write a Python program that checks whether a given number is prime or not. A prime number is a natural number greater than 1 that has no positive divisors other than 1 and itself."
   ]
  },
  {
   "cell_type": "code",
   "execution_count": 12,
   "id": "9a1757eb",
   "metadata": {},
   "outputs": [
    {
     "name": "stdout",
     "output_type": "stream",
     "text": [
      "Enter your value: 19\n",
      "19 is a prime number\n"
     ]
    }
   ],
   "source": [
    "# num = 11\n",
    "# If given number is greater than 1\n",
    "num = int(input(\"Enter your value: \"))\n",
    "if num > 1:\n",
    "    # Iterate from 2 to n // 2\n",
    "    for i in range(2, (num//2)+1):\n",
    "        # If num is divisible by any number between\n",
    "        # 2 and n / 2, it is not prime\n",
    "        if (num % i) == 0:\n",
    "            print(num, \"is not a prime number\")\n",
    "            break\n",
    "    else:\n",
    "        print(num, \"is a prime number\")\n",
    "else:\n",
    "    print(num, \"is not a prime number\")\n",
    "    \n"
   ]
  },
  {
   "cell_type": "markdown",
   "id": "8b161229",
   "metadata": {},
   "source": [
    "#### Exercise 2: Product of Random Numbers\n",
    "    \n",
    "Develop a Python program that generates two random numbers and asks the user to enter the product of these numbers.The program should then check if the user's answer is correct and display an appropriate message.\n"
   ]
  },
  {
   "cell_type": "code",
   "execution_count": 13,
   "id": "21a9c16f",
   "metadata": {},
   "outputs": [
    {
     "name": "stdout",
     "output_type": "stream",
     "text": [
      "What is the product of 13 and 11? 1235\n",
      "Incorrect. The correct answer is: 143\n"
     ]
    }
   ],
   "source": [
    "import random\n",
    "\n",
    "# Generate two random numbers between 1 and 20\n",
    "n1 = random.randint(1, 20)\n",
    "n2 = random.randint(1, 20)\n",
    "\n",
    "# Calculate the correct product\n",
    "correct_product = n1 * n2\n",
    "\n",
    "# Ask the user to enter the product of the two numbers\n",
    "user_answer = int(input(f\"What is the product of {n1} and {n2}? \"))\n",
    "\n",
    "# Check if the user's answer is correct and display an appropriate message\n",
    "if user_answer == correct_product:\n",
    "    print(\"Correct! Well done.\")\n",
    "else:\n",
    "    print(\"Incorrect. The correct answer is:\", correct_product)\n"
   ]
  },
  {
   "cell_type": "markdown",
   "id": "7abfeb59",
   "metadata": {},
   "source": [
    "#### Exercise 3: Squares of Even/Odd Numbers\n",
    "Create a Python script that prints the squares of all even or odd numbers within the range of 100 to 200. Choose either even or odd numbers and document your choice in the code.\n"
   ]
  },
  {
   "cell_type": "code",
   "execution_count": 14,
   "id": "5beec1cc",
   "metadata": {},
   "outputs": [
    {
     "name": "stdout",
     "output_type": "stream",
     "text": [
      "The square of 100 is 10000.\n",
      "The square of 102 is 10404.\n",
      "The square of 104 is 10816.\n",
      "The square of 106 is 11236.\n",
      "The square of 108 is 11664.\n",
      "The square of 110 is 12100.\n",
      "The square of 112 is 12544.\n",
      "The square of 114 is 12996.\n",
      "The square of 116 is 13456.\n",
      "The square of 118 is 13924.\n",
      "The square of 120 is 14400.\n",
      "The square of 122 is 14884.\n",
      "The square of 124 is 15376.\n",
      "The square of 126 is 15876.\n",
      "The square of 128 is 16384.\n",
      "The square of 130 is 16900.\n",
      "The square of 132 is 17424.\n",
      "The square of 134 is 17956.\n",
      "The square of 136 is 18496.\n",
      "The square of 138 is 19044.\n",
      "The square of 140 is 19600.\n",
      "The square of 142 is 20164.\n",
      "The square of 144 is 20736.\n",
      "The square of 146 is 21316.\n",
      "The square of 148 is 21904.\n",
      "The square of 150 is 22500.\n",
      "The square of 152 is 23104.\n",
      "The square of 154 is 23716.\n",
      "The square of 156 is 24336.\n",
      "The square of 158 is 24964.\n",
      "The square of 160 is 25600.\n",
      "The square of 162 is 26244.\n",
      "The square of 164 is 26896.\n",
      "The square of 166 is 27556.\n",
      "The square of 168 is 28224.\n",
      "The square of 170 is 28900.\n",
      "The square of 172 is 29584.\n",
      "The square of 174 is 30276.\n",
      "The square of 176 is 30976.\n",
      "The square of 178 is 31684.\n",
      "The square of 180 is 32400.\n",
      "The square of 182 is 33124.\n",
      "The square of 184 is 33856.\n",
      "The square of 186 is 34596.\n",
      "The square of 188 is 35344.\n",
      "The square of 190 is 36100.\n",
      "The square of 192 is 36864.\n",
      "The square of 194 is 37636.\n",
      "The square of 196 is 38416.\n",
      "The square of 198 is 39204.\n",
      "The square of 200 is 40000.\n"
     ]
    }
   ],
   "source": [
    "# Loop through the numbers from 100 to 200\n",
    "for num in range(100, 201):\n",
    "    # Check if the number is even\n",
    "    if num % 2 == 0:\n",
    "        # Calculate the square of the even number and print it\n",
    "        square = num ** 2\n",
    "        print(f\"The square of {num} is {square}.\")\n"
   ]
  },
  {
   "cell_type": "code",
   "execution_count": 15,
   "id": "0af7f7fe",
   "metadata": {},
   "outputs": [
    {
     "name": "stdout",
     "output_type": "stream",
     "text": [
      "The square of 101 is 10201.\n",
      "The square of 103 is 10609.\n",
      "The square of 105 is 11025.\n",
      "The square of 107 is 11449.\n",
      "The square of 109 is 11881.\n",
      "The square of 111 is 12321.\n",
      "The square of 113 is 12769.\n",
      "The square of 115 is 13225.\n",
      "The square of 117 is 13689.\n",
      "The square of 119 is 14161.\n",
      "The square of 121 is 14641.\n",
      "The square of 123 is 15129.\n",
      "The square of 125 is 15625.\n",
      "The square of 127 is 16129.\n",
      "The square of 129 is 16641.\n",
      "The square of 131 is 17161.\n",
      "The square of 133 is 17689.\n",
      "The square of 135 is 18225.\n",
      "The square of 137 is 18769.\n",
      "The square of 139 is 19321.\n",
      "The square of 141 is 19881.\n",
      "The square of 143 is 20449.\n",
      "The square of 145 is 21025.\n",
      "The square of 147 is 21609.\n",
      "The square of 149 is 22201.\n",
      "The square of 151 is 22801.\n",
      "The square of 153 is 23409.\n",
      "The square of 155 is 24025.\n",
      "The square of 157 is 24649.\n",
      "The square of 159 is 25281.\n",
      "The square of 161 is 25921.\n",
      "The square of 163 is 26569.\n",
      "The square of 165 is 27225.\n",
      "The square of 167 is 27889.\n",
      "The square of 169 is 28561.\n",
      "The square of 171 is 29241.\n",
      "The square of 173 is 29929.\n",
      "The square of 175 is 30625.\n",
      "The square of 177 is 31329.\n",
      "The square of 179 is 32041.\n",
      "The square of 181 is 32761.\n",
      "The square of 183 is 33489.\n",
      "The square of 185 is 34225.\n",
      "The square of 187 is 34969.\n",
      "The square of 189 is 35721.\n",
      "The square of 191 is 36481.\n",
      "The square of 193 is 37249.\n",
      "The square of 195 is 38025.\n",
      "The square of 197 is 38809.\n",
      "The square of 199 is 39601.\n"
     ]
    }
   ],
   "source": [
    "# Loop through the numbers from 100 to 200\n",
    "for num in range(100, 201):\n",
    "    # Check if the number is eodd\n",
    "    if num % 2 != 0:\n",
    "        # Calculate the square of the odd number and print it\n",
    "        square = num ** 2\n",
    "        print(f\"The square of {num} is {square}.\")\n"
   ]
  },
  {
   "cell_type": "markdown",
   "id": "0cb97134",
   "metadata": {},
   "source": [
    "#### Exercise 4: Word counter\n",
    "\n",
    "write a program to count the number of words in a given text.\n",
    "example:\n",
    "input_text = \"This is a sample text. This text will be used to demonstrate the word counter.\"\n",
    "\n",
    "Expected output:\n",
    "\n",
    "'This': 2 \n",
    "\n",
    "'is': 1\n",
    "\n",
    "'a': 1\n",
    "\n",
    "'sample': 1\n",
    "\n",
    "'text.': 1\n"
   ]
  },
  {
   "cell_type": "code",
   "execution_count": 19,
   "id": "f6d11821",
   "metadata": {},
   "outputs": [
    {
     "name": "stdout",
     "output_type": "stream",
     "text": [
      "'This':1\n",
      "'is':1\n",
      "'an':1\n",
      "'test':1\n",
      "'message':1\n",
      "'for':1\n",
      "'counting':1\n",
      "'the':1\n",
      "'words':1\n",
      "'I':1\n",
      "'want':1\n",
      "'to':1\n",
      "'complete':1\n",
      "'my':1\n",
      "'Post':1\n",
      "'Graduation':1\n",
      "'at':1\n",
      "'any':1\n",
      "'cost':1\n"
     ]
    }
   ],
   "source": [
    "def count_words(text):\n",
    "    words=text.split()\n",
    "    word_count={}\n",
    "    for word in words:\n",
    "        word.lower()\n",
    "        word_count[word]=word_count.get(word,0)+1\n",
    "    for word,count in word_count.items():\n",
    "        print(f\"'{word}':{count}\")\n",
    "text1=\"This is an test message for counting the words\"\n",
    "text2 = \"I want to complete my Post Graduation at any cost\"\n",
    "count_words(text1) \n",
    "count_words(text2) "
   ]
  },
  {
   "cell_type": "markdown",
   "id": "978bedba",
   "metadata": {},
   "source": [
    "#### Exercise 5: Check for Palindrome\n",
    "Write a Python function called is_palindrome that takes a string as input and returns True if the string is a palindrome, and False otherwise. A palindrome is a word, phrase, number, or other sequence of characters that reads the same forward and backward, ignoring spaces, punctuation, and capitalization.\n",
    "\n",
    "Example:\n",
    "\n",
    "Input: \"racecar\"\n",
    "\n",
    "Expected Output: True\n"
   ]
  },
  {
   "cell_type": "code",
   "execution_count": 20,
   "id": "4c9e493f",
   "metadata": {},
   "outputs": [
    {
     "name": "stdout",
     "output_type": "stream",
     "text": [
      "True\n"
     ]
    }
   ],
   "source": [
    "# by passing the default input\n",
    "\n",
    "def is_palindrome(p):\n",
    "    # Remove spaces and punctuation, and convert to lowercase\n",
    "    p = ''.join(char.lower() for char in p if char.isalnum())\n",
    "    # Compare the string with its reverse\n",
    "    return p == p[::-1]\n",
    "\n",
    "# Example usage\n",
    "input_string = \"racecar\"\n",
    "print(is_palindrome(input_string))"
   ]
  },
  {
   "cell_type": "code",
   "execution_count": 27,
   "id": "fdade6be",
   "metadata": {},
   "outputs": [
    {
     "name": "stdout",
     "output_type": "stream",
     "text": [
      "Enter the string : rare\n",
      "False\n"
     ]
    }
   ],
   "source": [
    "# by taking input manually\n",
    "\n",
    "def is_palindrome(p):\n",
    "    # Remove spaces and punctuation, and convert to lowercase\n",
    "    p = ''.join(char.lower() for char in p if char.isalnum())\n",
    "    # Compare the string with its reverse\n",
    "    return p == p[::-1]\n",
    "\n",
    "# Example usage\n",
    "# input_string = \"racecar\"\n",
    "input_string = input(\"Enter the string : \")\n",
    "print(is_palindrome(input_string))"
   ]
  },
  {
   "cell_type": "code",
   "execution_count": null,
   "id": "2c003cbe",
   "metadata": {},
   "outputs": [],
   "source": []
  },
  {
   "cell_type": "code",
   "execution_count": null,
   "id": "ff8b3f19",
   "metadata": {},
   "outputs": [],
   "source": []
  }
 ],
 "metadata": {
  "kernelspec": {
   "display_name": "Python 3 (ipykernel)",
   "language": "python",
   "name": "python3"
  },
  "language_info": {
   "codemirror_mode": {
    "name": "ipython",
    "version": 3
   },
   "file_extension": ".py",
   "mimetype": "text/x-python",
   "name": "python",
   "nbconvert_exporter": "python",
   "pygments_lexer": "ipython3",
   "version": "3.9.12"
  }
 },
 "nbformat": 4,
 "nbformat_minor": 5
}
