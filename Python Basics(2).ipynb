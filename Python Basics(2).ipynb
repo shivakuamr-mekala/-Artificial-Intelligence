{
 "cells": [
  {
   "cell_type": "code",
   "execution_count": 1,
   "id": "011e01ad",
   "metadata": {},
   "outputs": [
    {
     "name": "stdout",
     "output_type": "stream",
     "text": [
      "Hello\n"
     ]
    }
   ],
   "source": [
    "greet = \"Hello\"\n",
    "print(greet)"
   ]
  },
  {
   "cell_type": "code",
   "execution_count": 2,
   "id": "62757ed6",
   "metadata": {},
   "outputs": [
    {
     "name": "stdout",
     "output_type": "stream",
     "text": [
      "Hello World!!\n"
     ]
    }
   ],
   "source": [
    "print(\"Hello World!!\")  # shift + enter , ctrl+ enter ,alt + enter"
   ]
  },
  {
   "cell_type": "code",
   "execution_count": 3,
   "id": "da88c537",
   "metadata": {},
   "outputs": [
    {
     "name": "stdout",
     "output_type": "stream",
     "text": [
      "Hi!! how are you??\n"
     ]
    }
   ],
   "source": [
    "#variables\n",
    "Greetings= \"Hi!! how are you??\"\n",
    "print(Greetings)"
   ]
  },
  {
   "cell_type": "code",
   "execution_count": 5,
   "id": "5a7857a8",
   "metadata": {},
   "outputs": [
    {
     "name": "stdout",
     "output_type": "stream",
     "text": [
      "3+4*234-34+234\n"
     ]
    }
   ],
   "source": [
    "sum1 = \"3+4*234-34+234\"\n",
    "print(sum1)"
   ]
  },
  {
   "cell_type": "code",
   "execution_count": 6,
   "id": "31f136d2",
   "metadata": {},
   "outputs": [
    {
     "name": "stdout",
     "output_type": "stream",
     "text": [
      "We are learning A.I Today\n"
     ]
    }
   ],
   "source": [
    "excelr_institute = \"We are learning A.I Today\"\n",
    "print(excelr_institute)"
   ]
  },
  {
   "cell_type": "code",
   "execution_count": 7,
   "id": "ae169f77",
   "metadata": {},
   "outputs": [
    {
     "name": "stdout",
     "output_type": "stream",
     "text": [
      "We are learning A.I Today\n"
     ]
    }
   ],
   "source": [
    "_excelr = \"We are learning A.I Today\"\n",
    "print(_excelr)"
   ]
  },
  {
   "cell_type": "code",
   "execution_count": 8,
   "id": "009e1d8e",
   "metadata": {},
   "outputs": [
    {
     "name": "stdout",
     "output_type": "stream",
     "text": [
      "it is programming language\n"
     ]
    }
   ],
   "source": [
    "python_1_tool_sum = \"it is programming language\"\n",
    "print(python_1_tool_sum)"
   ]
  },
  {
   "cell_type": "code",
   "execution_count": 9,
   "id": "927b6e9c",
   "metadata": {},
   "outputs": [
    {
     "data": {
      "text/plain": [
       "2026915424544"
      ]
     },
     "execution_count": 9,
     "metadata": {},
     "output_type": "execute_result"
    }
   ],
   "source": [
    "id(python_1_tool_sum)"
   ]
  },
  {
   "cell_type": "code",
   "execution_count": 10,
   "id": "af4d4b22",
   "metadata": {},
   "outputs": [
    {
     "data": {
      "text/plain": [
       "2026915427424"
      ]
     },
     "execution_count": 10,
     "metadata": {},
     "output_type": "execute_result"
    }
   ],
   "source": [
    "id(excelr_institute)"
   ]
  },
  {
   "cell_type": "code",
   "execution_count": null,
   "id": "d6a790c7",
   "metadata": {},
   "outputs": [],
   "source": [
    "# create variable by putting information that  \"you have learnt variables\""
   ]
  },
  {
   "cell_type": "code",
   "execution_count": 11,
   "id": "4ffce6bc",
   "metadata": {},
   "outputs": [
    {
     "name": "stdout",
     "output_type": "stream",
     "text": [
      "you have learnt variables\n"
     ]
    }
   ],
   "source": [
    "learning_variables = \"you have learnt variables\"\n",
    "print(learning_variables)"
   ]
  },
  {
   "cell_type": "code",
   "execution_count": 12,
   "id": "6bbbc7af",
   "metadata": {},
   "outputs": [
    {
     "name": "stdout",
     "output_type": "stream",
     "text": [
      "Congratulations!! Hi!! How are you today? I heard that you are 32\n",
      "Congratulations!! Hi!! How are you today? I heard that you are 32\n"
     ]
    }
   ],
   "source": [
    "Greetings = \"Hi!! How are you today?\"\n",
    "age = 32\n",
    "print(\"Congratulations!!\",Greetings,\"I heard that you are\",age)  # one method\n",
    "print(f\"Congratulations!! {Greetings} I heard that you are {age}\") # other method"
   ]
  },
  {
   "cell_type": "code",
   "execution_count": 13,
   "id": "af84105f",
   "metadata": {},
   "outputs": [
    {
     "name": "stdout",
     "output_type": "stream",
     "text": [
      "new version\n"
     ]
    }
   ],
   "source": [
    "python3= \"new version\"\n",
    "print(python3)"
   ]
  },
  {
   "cell_type": "code",
   "execution_count": 14,
   "id": "623a39e8",
   "metadata": {},
   "outputs": [
    {
     "name": "stdout",
     "output_type": "stream",
     "text": [
      "Hi!! How are you today? Congratulations!!,you are turning 32\n"
     ]
    }
   ],
   "source": [
    "print(Greetings,\"Congratulations!!,you are turning\",age)"
   ]
  },
  {
   "cell_type": "code",
   "execution_count": 17,
   "id": "4f417e53",
   "metadata": {},
   "outputs": [],
   "source": [
    "# try the above print inthe f string format  task"
   ]
  },
  {
   "cell_type": "code",
   "execution_count": 18,
   "id": "a7ab2291",
   "metadata": {},
   "outputs": [],
   "source": [
    "wish = \"Congratulations!!,you are turning\""
   ]
  },
  {
   "cell_type": "code",
   "execution_count": 19,
   "id": "3fdf1170",
   "metadata": {},
   "outputs": [
    {
     "name": "stdout",
     "output_type": "stream",
     "text": [
      "Hi!! How are you today? Congratulations!!,you are turning 32\n"
     ]
    }
   ],
   "source": [
    "print(Greetings,wish,age)"
   ]
  },
  {
   "cell_type": "code",
   "execution_count": null,
   "id": "50fed4f6",
   "metadata": {},
   "outputs": [],
   "source": [
    "## here Greetings and the age are the variables"
   ]
  },
  {
   "cell_type": "code",
   "execution_count": null,
   "id": "c02f55a3",
   "metadata": {},
   "outputs": [],
   "source": [
    "# learn = \"we are learning python today\"\n",
    "\n",
    "# ## learn is something variable which contains information\n",
    "# output = \"we can create data science applications\"\n",
    "# ## output is also variable which contains information\n",
    "\n",
    "# # print(learn,\"so that\",output)\n",
    "# print(f'{learn}, so that, {output}')\n",
    "\n",
    "# ## in other words variable is helpful to store the information"
   ]
  },
  {
   "cell_type": "code",
   "execution_count": null,
   "id": "72e6ad90",
   "metadata": {},
   "outputs": [],
   "source": []
  },
  {
   "cell_type": "code",
   "execution_count": 20,
   "id": "fe8da996",
   "metadata": {},
   "outputs": [
    {
     "ename": "SyntaxError",
     "evalue": "invalid syntax (2432648554.py, line 3)",
     "output_type": "error",
     "traceback": [
      "\u001b[1;36m  Cell \u001b[1;32mIn[20], line 3\u001b[1;36m\u001b[0m\n\u001b[1;33m    learn!! = \"we are learning python today\"   # not the right way to write the variable\u001b[0m\n\u001b[1;37m         ^\u001b[0m\n\u001b[1;31mSyntaxError\u001b[0m\u001b[1;31m:\u001b[0m invalid syntax\n"
     ]
    }
   ],
   "source": [
    "## lets understand how to write the variables ?\n",
    "\n",
    "learn!! = \"we are learning python today\"   # not the right way to write the variable"
   ]
  },
  {
   "cell_type": "code",
   "execution_count": 21,
   "id": "b532ba2c",
   "metadata": {},
   "outputs": [],
   "source": [
    "learn__ = \"we are learning python today\" # you can create variable like this"
   ]
  },
  {
   "cell_type": "code",
   "execution_count": 22,
   "id": "ec08e1c4",
   "metadata": {},
   "outputs": [],
   "source": [
    "__learn = \"we are learning python today\""
   ]
  },
  {
   "cell_type": "code",
   "execution_count": 23,
   "id": "5b3283dc",
   "metadata": {},
   "outputs": [
    {
     "name": "stdout",
     "output_type": "stream",
     "text": [
      "all lists are present\n"
     ]
    }
   ],
   "source": [
    "list1_list2_list3 = \"all lists are present\"\n",
    "print(list1_list2_list3)"
   ]
  },
  {
   "cell_type": "code",
   "execution_count": 24,
   "id": "3260dd9c",
   "metadata": {},
   "outputs": [
    {
     "name": "stdout",
     "output_type": "stream",
     "text": [
      "all lists are present\n"
     ]
    }
   ],
   "source": [
    "list1_and_list2_and_list3 = \"all lists are present\"\n",
    "print(list1_and_list2_and_list3)   "
   ]
  },
  {
   "cell_type": "code",
   "execution_count": 25,
   "id": "a24db4e8",
   "metadata": {},
   "outputs": [
    {
     "name": "stdout",
     "output_type": "stream",
     "text": [
      "sdjfwidjfiwsjfiowjoms289430934834!@#(#(#@($)))+_\n"
     ]
    }
   ],
   "source": [
    "random_information =\"sdjfwidjfiwsjfiowjoms289430934834!@#(#(#@($)))+_\"\n",
    "print(random_information)"
   ]
  },
  {
   "cell_type": "code",
   "execution_count": 26,
   "id": "3ad5f4d4",
   "metadata": {},
   "outputs": [
    {
     "name": "stdout",
     "output_type": "stream",
     "text": [
      "sdjfwidjfiwsjfiowjoms289430934834!@#(#(#@($)))+_\n"
     ]
    }
   ],
   "source": [
    "random_information_1 ='sdjfwidjfiwsjfiowjoms289430934834!@#(#(#@($)))+_'\n",
    "print(random_information_1)"
   ]
  },
  {
   "cell_type": "markdown",
   "id": "fbafa5a3",
   "metadata": {},
   "source": [
    "## strings  \" \", ' '"
   ]
  },
  {
   "cell_type": "code",
   "execution_count": 27,
   "id": "62cce2f4",
   "metadata": {},
   "outputs": [],
   "source": [
    "info  = \"Our trip was very good yesterday!!,sfsdjfsjlf289438913842\""
   ]
  },
  {
   "cell_type": "code",
   "execution_count": 28,
   "id": "984dd293",
   "metadata": {},
   "outputs": [
    {
     "name": "stdout",
     "output_type": "stream",
     "text": [
      "Our trip was very good yesterday!!,sfsdjfsjlf289438913842\n"
     ]
    }
   ],
   "source": [
    "print(info)"
   ]
  },
  {
   "cell_type": "code",
   "execution_count": 29,
   "id": "3b3aaa90",
   "metadata": {},
   "outputs": [
    {
     "name": "stdout",
     "output_type": "stream",
     "text": [
      "Our trip was very good yesterday!!,sfsdjfsjlf289438913842\n"
     ]
    }
   ],
   "source": [
    "info1 = 'Our trip was very good yesterday!!,sfsdjfsjlf289438913842'\n",
    "print(info1)"
   ]
  },
  {
   "cell_type": "code",
   "execution_count": 30,
   "id": "df1f3e3b",
   "metadata": {},
   "outputs": [],
   "source": [
    "info2 = '''This is multi-line string.\n",
    "sdfsdf\n",
    "sdfdsfsdf\n",
    "'''"
   ]
  },
  {
   "cell_type": "code",
   "execution_count": 31,
   "id": "2b6153d1",
   "metadata": {},
   "outputs": [
    {
     "name": "stdout",
     "output_type": "stream",
     "text": [
      "This is multi-line string.\n",
      "sdfsdf\n",
      "sdfdsfsdf\n",
      "\n"
     ]
    }
   ],
   "source": [
    "print(info2)"
   ]
  },
  {
   "cell_type": "code",
   "execution_count": 32,
   "id": "7b5e07d6",
   "metadata": {},
   "outputs": [],
   "source": [
    "info_1 = \"\"\"\n",
    "1.A.I has more demand in the market\n",
    "2.python is the best programming to learn\n",
    "3.you need to have good foundation of stats\"\"\""
   ]
  },
  {
   "cell_type": "code",
   "execution_count": 33,
   "id": "2c586280",
   "metadata": {},
   "outputs": [
    {
     "name": "stdout",
     "output_type": "stream",
     "text": [
      "\n",
      "1.A.I has more demand in the market\n",
      "2.python is the best programming to learn\n",
      "3.you need to have good foundation of stats\n"
     ]
    }
   ],
   "source": [
    "print(info_1)"
   ]
  },
  {
   "cell_type": "code",
   "execution_count": null,
   "id": "11bb98ef",
   "metadata": {},
   "outputs": [],
   "source": []
  },
  {
   "cell_type": "code",
   "execution_count": 34,
   "id": "bfa783e7",
   "metadata": {},
   "outputs": [],
   "source": [
    "I_T = \"1.A.I has more demand in the market 2.python is the best programming to learn 3.you need to have good foundation of stats\""
   ]
  },
  {
   "cell_type": "code",
   "execution_count": 35,
   "id": "31843d16",
   "metadata": {},
   "outputs": [
    {
     "name": "stdout",
     "output_type": "stream",
     "text": [
      "1.A.I has more demand in the market 2.python is the best programming to learn 3.you need to have good foundation of stats\n"
     ]
    }
   ],
   "source": [
    "print(I_T)"
   ]
  },
  {
   "cell_type": "code",
   "execution_count": null,
   "id": "d626650b",
   "metadata": {},
   "outputs": [],
   "source": []
  },
  {
   "cell_type": "code",
   "execution_count": 36,
   "id": "cb345e67",
   "metadata": {},
   "outputs": [],
   "source": [
    "info3 = \"\"\"this is multi line string\n",
    "sdfsf\n",
    "sdfsdf\"\"\""
   ]
  },
  {
   "cell_type": "code",
   "execution_count": 37,
   "id": "4b3eb194",
   "metadata": {},
   "outputs": [
    {
     "name": "stdout",
     "output_type": "stream",
     "text": [
      "this is multi line string\n",
      "sdfsf\n",
      "sdfsdf\n"
     ]
    }
   ],
   "source": [
    "print(info3)"
   ]
  },
  {
   "cell_type": "markdown",
   "id": "16c50d3e",
   "metadata": {},
   "source": [
    "## double quotes and single quotes at one place"
   ]
  },
  {
   "cell_type": "code",
   "execution_count": 38,
   "id": "02ee59c0",
   "metadata": {},
   "outputs": [
    {
     "name": "stdout",
     "output_type": "stream",
     "text": [
      "We learnt 'something' today..\n"
     ]
    }
   ],
   "source": [
    "char = \"We learnt 'something' today..\"\n",
    "print(char)\n",
    "\n",
    "# if the string starts with double quotes, in the sentences you have to give single quote\n",
    "# if the string starts with single quotes, in the sentences you have to give double quote"
   ]
  },
  {
   "cell_type": "code",
   "execution_count": null,
   "id": "75e81506",
   "metadata": {},
   "outputs": [],
   "source": []
  },
  {
   "cell_type": "code",
   "execution_count": 39,
   "id": "56578be6",
   "metadata": {},
   "outputs": [
    {
     "name": "stdout",
     "output_type": "stream",
     "text": [
      "We learnt \"something\" today\n"
     ]
    }
   ],
   "source": [
    "char1 = 'We learnt \"something\" today'\n",
    "print(char1)"
   ]
  },
  {
   "cell_type": "code",
   "execution_count": 40,
   "id": "4e8deb82",
   "metadata": {},
   "outputs": [
    {
     "data": {
      "text/plain": [
       "str"
      ]
     },
     "execution_count": 40,
     "metadata": {},
     "output_type": "execute_result"
    }
   ],
   "source": [
    "type(char)"
   ]
  },
  {
   "cell_type": "code",
   "execution_count": 41,
   "id": "66e1031f",
   "metadata": {},
   "outputs": [
    {
     "data": {
      "text/plain": [
       "str"
      ]
     },
     "execution_count": 41,
     "metadata": {},
     "output_type": "execute_result"
    }
   ],
   "source": [
    "type(char1)"
   ]
  },
  {
   "cell_type": "code",
   "execution_count": 42,
   "id": "cf58db14",
   "metadata": {},
   "outputs": [
    {
     "data": {
      "text/plain": [
       "str"
      ]
     },
     "execution_count": 42,
     "metadata": {},
     "output_type": "execute_result"
    }
   ],
   "source": [
    "type(info3)"
   ]
  },
  {
   "cell_type": "code",
   "execution_count": 43,
   "id": "fa8befb7",
   "metadata": {},
   "outputs": [
    {
     "data": {
      "text/plain": [
       "str"
      ]
     },
     "execution_count": 43,
     "metadata": {},
     "output_type": "execute_result"
    }
   ],
   "source": [
    "type(info2)"
   ]
  },
  {
   "cell_type": "code",
   "execution_count": 46,
   "id": "78874e4b",
   "metadata": {},
   "outputs": [
    {
     "name": "stdout",
     "output_type": "stream",
     "text": [
      "1234505\n"
     ]
    }
   ],
   "source": [
    "numbers = 1234505\n",
    "print(numbers)"
   ]
  },
  {
   "cell_type": "code",
   "execution_count": 47,
   "id": "19cea686",
   "metadata": {},
   "outputs": [
    {
     "name": "stdout",
     "output_type": "stream",
     "text": [
      "1234504\n"
     ]
    }
   ],
   "source": [
    "numbers1 = \"1234504\"\n",
    "print(numbers1)"
   ]
  },
  {
   "cell_type": "code",
   "execution_count": 48,
   "id": "3f25ab9b",
   "metadata": {},
   "outputs": [
    {
     "data": {
      "text/plain": [
       "str"
      ]
     },
     "execution_count": 48,
     "metadata": {},
     "output_type": "execute_result"
    }
   ],
   "source": [
    "type(numbers1)"
   ]
  },
  {
   "cell_type": "code",
   "execution_count": 49,
   "id": "adb7e92d",
   "metadata": {},
   "outputs": [
    {
     "data": {
      "text/plain": [
       "int"
      ]
     },
     "execution_count": 49,
     "metadata": {},
     "output_type": "execute_result"
    }
   ],
   "source": [
    "type(numbers)"
   ]
  },
  {
   "cell_type": "code",
   "execution_count": 50,
   "id": "56476c5e",
   "metadata": {},
   "outputs": [
    {
     "name": "stdout",
     "output_type": "stream",
     "text": [
      "292.2342\n"
     ]
    }
   ],
   "source": [
    "numbers2 = 292.2342\n",
    "print(numbers2)"
   ]
  },
  {
   "cell_type": "code",
   "execution_count": 51,
   "id": "3eb409b1",
   "metadata": {},
   "outputs": [
    {
     "data": {
      "text/plain": [
       "float"
      ]
     },
     "execution_count": 51,
     "metadata": {},
     "output_type": "execute_result"
    }
   ],
   "source": [
    "type(numbers2)"
   ]
  },
  {
   "cell_type": "code",
   "execution_count": 52,
   "id": "563a9a34",
   "metadata": {},
   "outputs": [
    {
     "name": "stdout",
     "output_type": "stream",
     "text": [
      "292.2342\n"
     ]
    }
   ],
   "source": [
    "numbers_string = \"292.2342\"\n",
    "print(numbers_string)"
   ]
  },
  {
   "cell_type": "code",
   "execution_count": 53,
   "id": "6df9b0e9",
   "metadata": {},
   "outputs": [
    {
     "data": {
      "text/plain": [
       "str"
      ]
     },
     "execution_count": 53,
     "metadata": {},
     "output_type": "execute_result"
    }
   ],
   "source": [
    "type(numbers_string)"
   ]
  },
  {
   "cell_type": "markdown",
   "id": "01a0bd79",
   "metadata": {},
   "source": [
    "## can we convert the datatypes"
   ]
  },
  {
   "cell_type": "code",
   "execution_count": 54,
   "id": "0f79c1c7",
   "metadata": {},
   "outputs": [
    {
     "name": "stdout",
     "output_type": "stream",
     "text": [
      "Original age 32.5\n",
      "*************************\n",
      "After conversion \n",
      "32\n",
      "************************\n",
      "<class 'int'>\n"
     ]
    }
   ],
   "source": [
    "age = 32.5\n",
    "print(\"Original age\",age)\n",
    "print(\"*************************\")\n",
    "convert_into_integer = int(age)\n",
    "print(\"After conversion \")\n",
    "print(convert_into_integer)\n",
    "print(\"************************\")\n",
    "print(type(convert_into_integer))"
   ]
  },
  {
   "cell_type": "code",
   "execution_count": null,
   "id": "bea43b72",
   "metadata": {},
   "outputs": [],
   "source": []
  },
  {
   "cell_type": "code",
   "execution_count": 55,
   "id": "03ae1e91",
   "metadata": {},
   "outputs": [
    {
     "name": "stdout",
     "output_type": "stream",
     "text": [
      "35.0\n",
      "-----------------------------\n",
      "<class 'float'>\n"
     ]
    }
   ],
   "source": [
    "age_int = 35\n",
    "convert_into_float = float(age_int)\n",
    "print(convert_into_float)\n",
    "print(\"-----------------------------\")\n",
    "print(type(convert_into_float))"
   ]
  },
  {
   "cell_type": "code",
   "execution_count": 56,
   "id": "b3d429a5",
   "metadata": {},
   "outputs": [
    {
     "name": "stdout",
     "output_type": "stream",
     "text": [
      "35\n",
      "              \n",
      "<class 'str'>\n"
     ]
    }
   ],
   "source": [
    "age2 = 35\n",
    "age_str = str(age2)\n",
    "print(age_str)\n",
    "print(\"              \")\n",
    "print(type(age_str))"
   ]
  },
  {
   "cell_type": "code",
   "execution_count": 57,
   "id": "87ab88be",
   "metadata": {},
   "outputs": [
    {
     "name": "stdout",
     "output_type": "stream",
     "text": [
      "<class 'str'>\n",
      "-------------------------\n",
      "35.6\n",
      "*********\n",
      "<class 'float'>\n"
     ]
    }
   ],
   "source": [
    "age_str = \"35.6\"\n",
    "print(type(age_str))\n",
    "print(\"-------------------------\")\n",
    "age_float = float(age_str)\n",
    "print(age_float)\n",
    "print(\"*********\")\n",
    "print(type(age_float))"
   ]
  },
  {
   "cell_type": "code",
   "execution_count": null,
   "id": "3adee9c0",
   "metadata": {},
   "outputs": [],
   "source": []
  },
  {
   "cell_type": "code",
   "execution_count": null,
   "id": "1f570871",
   "metadata": {},
   "outputs": [],
   "source": []
  },
  {
   "cell_type": "markdown",
   "id": "ef2449e8",
   "metadata": {},
   "source": [
    "## operations"
   ]
  },
  {
   "cell_type": "code",
   "execution_count": 58,
   "id": "299efdb2",
   "metadata": {},
   "outputs": [
    {
     "name": "stdout",
     "output_type": "stream",
     "text": [
      "41\n",
      "9\n",
      "400\n",
      "1.5625\n",
      "1\n",
      "9\n"
     ]
    }
   ],
   "source": [
    "a = 25\n",
    "b = 16\n",
    "\n",
    "print(a+b)\n",
    "print(a-b)\n",
    "print(a*b)\n",
    "print(a/b)\n",
    "print(a//b)\n",
    "print(a%b)"
   ]
  },
  {
   "cell_type": "code",
   "execution_count": 59,
   "id": "05cd27be",
   "metadata": {},
   "outputs": [
    {
     "name": "stdout",
     "output_type": "stream",
     "text": [
      "The sum is: 41\n",
      "The difference is: 9\n",
      "The multiplicative is: 400\n",
      "The division is: 1.5625\n",
      "the floor division is: 1\n",
      "the remainder is: 9\n"
     ]
    }
   ],
   "source": [
    "a = 25\n",
    "b = 16\n",
    "\n",
    "print(\"The sum is:\",a+b)\n",
    "print(\"The difference is:\",a-b)\n",
    "print(\"The multiplicative is:\",a*b)\n",
    "print(\"The division is:\",a/b)\n",
    "print(\"the floor division is:\",a//b)   ## floor division\n",
    "print(\"the remainder is:\",a%b)  #modulus"
   ]
  },
  {
   "cell_type": "code",
   "execution_count": null,
   "id": "8b2badc8",
   "metadata": {},
   "outputs": [],
   "source": [
    "# convert the above prints into f-strings"
   ]
  },
  {
   "cell_type": "code",
   "execution_count": 60,
   "id": "7791d88d",
   "metadata": {},
   "outputs": [
    {
     "data": {
      "text/plain": [
       "9"
      ]
     },
     "execution_count": 60,
     "metadata": {},
     "output_type": "execute_result"
    }
   ],
   "source": [
    "25%16"
   ]
  },
  {
   "cell_type": "code",
   "execution_count": null,
   "id": "24667874",
   "metadata": {},
   "outputs": [],
   "source": [
    "##  create greetings to the john because he completed 5 years in the company, but the final output i want is \n",
    "# you have to greet him in months using python"
   ]
  },
  {
   "cell_type": "code",
   "execution_count": 61,
   "id": "309bb83a",
   "metadata": {},
   "outputs": [
    {
     "name": "stdout",
     "output_type": "stream",
     "text": [
      "Hey John Congratulations!! you have completed 5 years in the company\n"
     ]
    }
   ],
   "source": [
    "Person = \"John\"\n",
    "Greetings = \"Congratulations!!\"\n",
    "Reason = \"you have completed 5 years in the company\"\n",
    "\n",
    "print(f\"Hey {Person} {Greetings} {Reason}\")"
   ]
  },
  {
   "cell_type": "code",
   "execution_count": 62,
   "id": "48894a63",
   "metadata": {},
   "outputs": [
    {
     "name": "stdout",
     "output_type": "stream",
     "text": [
      "Hey John Congratulations!! you have completed 5 years in the company\n"
     ]
    }
   ],
   "source": [
    "print(\"Hey\",Person,Greetings,Reason)"
   ]
  },
  {
   "cell_type": "code",
   "execution_count": 63,
   "id": "160ad605",
   "metadata": {},
   "outputs": [
    {
     "name": "stdout",
     "output_type": "stream",
     "text": [
      "Hey John Congratulations!! you have completed 60 months in the company....\n"
     ]
    }
   ],
   "source": [
    "Person = \"John\"\n",
    "Greetings = \"Congratulations!!\"\n",
    "age = 5\n",
    "convert_into_months = age *12\n",
    "Reason = f\"you have completed {convert_into_months} months in the company....\"\n",
    "\n",
    "print(f\"Hey {Person} {Greetings} {Reason}\")"
   ]
  },
  {
   "cell_type": "code",
   "execution_count": 64,
   "id": "9f5d19d5",
   "metadata": {},
   "outputs": [
    {
     "name": "stdout",
     "output_type": "stream",
     "text": [
      "Hey John Congratulations!! you have completed 60 months in the company....\n"
     ]
    }
   ],
   "source": [
    "print(f\"Hey {Person} {Greetings} you have completed {convert_into_months} months in the company....\")"
   ]
  },
  {
   "cell_type": "code",
   "execution_count": 67,
   "id": "7b1f78fa",
   "metadata": {},
   "outputs": [
    {
     "name": "stdout",
     "output_type": "stream",
     "text": [
      "Hey John Congratulations!! you have completed 60 months in the company....\n"
     ]
    }
   ],
   "source": [
    "Person = \"John\"\n",
    "Greetings = \"Congratulations!!\"\n",
    "months = \"12\"\n",
    "months_int = int(months)\n",
    "age = 5 * months_int\n",
    "print(f\"Hey {Person} {Greetings} you have completed {age} months in the company....\")"
   ]
  },
  {
   "cell_type": "code",
   "execution_count": null,
   "id": "0949a12e",
   "metadata": {},
   "outputs": [],
   "source": []
  },
  {
   "cell_type": "code",
   "execution_count": null,
   "id": "a3792ee4",
   "metadata": {},
   "outputs": [],
   "source": [
    "## variables\n",
    "# strings\n",
    "## int\n",
    "## float\n",
    "## operations\n",
    "## normal prints\n",
    "## f strings\n",
    "# data type conversions"
   ]
  },
  {
   "cell_type": "code",
   "execution_count": null,
   "id": "cc399b9b",
   "metadata": {},
   "outputs": [],
   "source": []
  },
  {
   "cell_type": "code",
   "execution_count": null,
   "id": "08d4d25b",
   "metadata": {},
   "outputs": [],
   "source": []
  }
 ],
 "metadata": {
  "kernelspec": {
   "display_name": "Python 3 (ipykernel)",
   "language": "python",
   "name": "python3"
  },
  "language_info": {
   "codemirror_mode": {
    "name": "ipython",
    "version": 3
   },
   "file_extension": ".py",
   "mimetype": "text/x-python",
   "name": "python",
   "nbconvert_exporter": "python",
   "pygments_lexer": "ipython3",
   "version": "3.10.9"
  }
 },
 "nbformat": 4,
 "nbformat_minor": 5
}
