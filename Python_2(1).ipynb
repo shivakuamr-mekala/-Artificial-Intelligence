{
 "cells": [
  {
   "cell_type": "code",
   "execution_count": 2,
   "id": "d1520a04",
   "metadata": {},
   "outputs": [
    {
     "data": {
      "text/plain": [
       "3"
      ]
     },
     "execution_count": 2,
     "metadata": {},
     "output_type": "execute_result"
    }
   ],
   "source": [
    "a = 1\n",
    "b = 2\n",
    "\n",
    "## you have the value 1 you are storing in a\n",
    "## you have the value 2 you are storing in b\n",
    "\n",
    "c = a+b\n",
    "c"
   ]
  },
  {
   "cell_type": "code",
   "execution_count": 3,
   "id": "87268519",
   "metadata": {},
   "outputs": [
    {
     "data": {
      "text/plain": [
       "1"
      ]
     },
     "execution_count": 3,
     "metadata": {},
     "output_type": "execute_result"
    }
   ],
   "source": [
    "a"
   ]
  },
  {
   "cell_type": "code",
   "execution_count": 4,
   "id": "c774a98f",
   "metadata": {},
   "outputs": [
    {
     "data": {
      "text/plain": [
       "2854523633904"
      ]
     },
     "execution_count": 4,
     "metadata": {},
     "output_type": "execute_result"
    }
   ],
   "source": [
    "id(a)"
   ]
  },
  {
   "cell_type": "code",
   "execution_count": 5,
   "id": "888fbb36",
   "metadata": {},
   "outputs": [
    {
     "name": "stdout",
     "output_type": "stream",
     "text": [
      "10\n"
     ]
    },
    {
     "data": {
      "text/plain": [
       "2854523634192"
      ]
     },
     "execution_count": 5,
     "metadata": {},
     "output_type": "execute_result"
    }
   ],
   "source": [
    "a = 10   ##variable overlapping\n",
    "print(a)\n",
    "id(a)"
   ]
  },
  {
   "cell_type": "code",
   "execution_count": 6,
   "id": "467da733",
   "metadata": {},
   "outputs": [
    {
     "data": {
      "text/plain": [
       "int"
      ]
     },
     "execution_count": 6,
     "metadata": {},
     "output_type": "execute_result"
    }
   ],
   "source": [
    "type(a)"
   ]
  },
  {
   "cell_type": "code",
   "execution_count": 7,
   "id": "f0c8541a",
   "metadata": {},
   "outputs": [],
   "source": [
    "a = 10\n",
    "b = 20\n",
    "##swap the variables\n",
    "a,b = b,a"
   ]
  },
  {
   "cell_type": "code",
   "execution_count": 8,
   "id": "29fabecc",
   "metadata": {},
   "outputs": [
    {
     "data": {
      "text/plain": [
       "20"
      ]
     },
     "execution_count": 8,
     "metadata": {},
     "output_type": "execute_result"
    }
   ],
   "source": [
    "a"
   ]
  },
  {
   "cell_type": "code",
   "execution_count": 9,
   "id": "11bf5e3c",
   "metadata": {},
   "outputs": [
    {
     "data": {
      "text/plain": [
       "10"
      ]
     },
     "execution_count": 9,
     "metadata": {},
     "output_type": "execute_result"
    }
   ],
   "source": [
    "b"
   ]
  },
  {
   "cell_type": "code",
   "execution_count": 10,
   "id": "e1063995",
   "metadata": {},
   "outputs": [
    {
     "data": {
      "text/plain": [
       "str"
      ]
     },
     "execution_count": 10,
     "metadata": {},
     "output_type": "execute_result"
    }
   ],
   "source": [
    "#data types\n",
    "\n",
    "a = 'data science'\n",
    "\n",
    "type(a)"
   ]
  },
  {
   "cell_type": "code",
   "execution_count": 11,
   "id": "9f11f028",
   "metadata": {},
   "outputs": [
    {
     "data": {
      "text/plain": [
       "str"
      ]
     },
     "execution_count": 11,
     "metadata": {},
     "output_type": "execute_result"
    }
   ],
   "source": [
    "a = '10'\n",
    "type(a)"
   ]
  },
  {
   "cell_type": "code",
   "execution_count": 12,
   "id": "e29e8743",
   "metadata": {},
   "outputs": [
    {
     "name": "stdout",
     "output_type": "stream",
     "text": [
      "we are 'learning' python\n"
     ]
    }
   ],
   "source": [
    "learn = \"we are 'learning' python\"\n",
    "print(learn)"
   ]
  },
  {
   "cell_type": "code",
   "execution_count": 13,
   "id": "6001c585",
   "metadata": {},
   "outputs": [
    {
     "name": "stdout",
     "output_type": "stream",
     "text": [
      "we are \"learning\" python\n"
     ]
    }
   ],
   "source": [
    "learn = 'we are \"learning\" python'\n",
    "print(learn)"
   ]
  },
  {
   "cell_type": "code",
   "execution_count": 14,
   "id": "8f145812",
   "metadata": {},
   "outputs": [
    {
     "data": {
      "text/plain": [
       "'we are learning Artificial Intelligence'"
      ]
     },
     "execution_count": 14,
     "metadata": {},
     "output_type": "execute_result"
    }
   ],
   "source": [
    "a = \"we are learning Artificial Intelligence\"\n",
    "a"
   ]
  },
  {
   "cell_type": "code",
   "execution_count": 15,
   "id": "30cc268c",
   "metadata": {},
   "outputs": [
    {
     "data": {
      "text/plain": [
       "'We are learning artificial intelligence'"
      ]
     },
     "execution_count": 15,
     "metadata": {},
     "output_type": "execute_result"
    }
   ],
   "source": [
    "a.capitalize()"
   ]
  },
  {
   "cell_type": "code",
   "execution_count": 16,
   "id": "6d0fd2f3",
   "metadata": {},
   "outputs": [
    {
     "data": {
      "text/plain": [
       "False"
      ]
     },
     "execution_count": 16,
     "metadata": {},
     "output_type": "execute_result"
    }
   ],
   "source": [
    "a.islower()"
   ]
  },
  {
   "cell_type": "code",
   "execution_count": 17,
   "id": "d88bc3b5",
   "metadata": {},
   "outputs": [
    {
     "data": {
      "text/plain": [
       "False"
      ]
     },
     "execution_count": 17,
     "metadata": {},
     "output_type": "execute_result"
    }
   ],
   "source": [
    "a.isupper()"
   ]
  },
  {
   "cell_type": "code",
   "execution_count": 18,
   "id": "ed5166c1",
   "metadata": {},
   "outputs": [
    {
     "data": {
      "text/plain": [
       "'WE ARE LEARNING ARTIFICIAL INTELLIGENCE'"
      ]
     },
     "execution_count": 18,
     "metadata": {},
     "output_type": "execute_result"
    }
   ],
   "source": [
    "a.upper()"
   ]
  },
  {
   "cell_type": "code",
   "execution_count": 19,
   "id": "8941cd58",
   "metadata": {},
   "outputs": [
    {
     "data": {
      "text/plain": [
       "'we are learning artificial intelligence'"
      ]
     },
     "execution_count": 19,
     "metadata": {},
     "output_type": "execute_result"
    }
   ],
   "source": [
    "a.lower()"
   ]
  },
  {
   "cell_type": "code",
   "execution_count": 20,
   "id": "2543e387",
   "metadata": {},
   "outputs": [
    {
     "data": {
      "text/plain": [
       "'we are learning Artificial Intelligence'"
      ]
     },
     "execution_count": 20,
     "metadata": {},
     "output_type": "execute_result"
    }
   ],
   "source": [
    "a"
   ]
  },
  {
   "cell_type": "code",
   "execution_count": 23,
   "id": "cae86e9f",
   "metadata": {},
   "outputs": [
    {
     "data": {
      "text/plain": [
       "3"
      ]
     },
     "execution_count": 23,
     "metadata": {},
     "output_type": "execute_result"
    }
   ],
   "source": [
    "a.count('a')  # python is case sensitive"
   ]
  },
  {
   "cell_type": "code",
   "execution_count": 22,
   "id": "e6489841",
   "metadata": {},
   "outputs": [
    {
     "data": {
      "text/plain": [
       "7"
      ]
     },
     "execution_count": 22,
     "metadata": {},
     "output_type": "execute_result"
    }
   ],
   "source": [
    "a.index('l')   #python index always start from 0\n",
    "# why it is considering only first a why not remaining a"
   ]
  },
  {
   "cell_type": "code",
   "execution_count": 24,
   "id": "3f422d86",
   "metadata": {},
   "outputs": [
    {
     "data": {
      "text/plain": [
       "7"
      ]
     },
     "execution_count": 24,
     "metadata": {},
     "output_type": "execute_result"
    }
   ],
   "source": [
    "a.find('l')  ## find gives the index of the character"
   ]
  },
  {
   "cell_type": "code",
   "execution_count": 25,
   "id": "ee073d39",
   "metadata": {},
   "outputs": [
    {
     "name": "stdout",
     "output_type": "stream",
     "text": [
      "30\n",
      "-10\n",
      "200\n",
      "0.5\n",
      "0\n",
      "10\n"
     ]
    }
   ],
   "source": [
    "a = 10\n",
    "b = 20\n",
    "\n",
    "print(a+b)\n",
    "print(a-b)\n",
    "print(a*b)\n",
    "print(a/b)\n",
    "print(a//b)\n",
    "print(a%b)"
   ]
  },
  {
   "cell_type": "markdown",
   "id": "503ab842",
   "metadata": {},
   "source": [
    "## Input Method Python"
   ]
  },
  {
   "cell_type": "markdown",
   "id": "4b047609",
   "metadata": {},
   "source": [
    "## user input method"
   ]
  },
  {
   "cell_type": "code",
   "execution_count": 26,
   "id": "66e1e824",
   "metadata": {},
   "outputs": [
    {
     "name": "stdout",
     "output_type": "stream",
     "text": [
      "enter your name: python\n",
      "<class 'str'>\n"
     ]
    }
   ],
   "source": [
    "a = input(\"enter your name: \")\n",
    "print(type(a))"
   ]
  },
  {
   "cell_type": "code",
   "execution_count": 27,
   "id": "be41f77a",
   "metadata": {},
   "outputs": [
    {
     "name": "stdout",
     "output_type": "stream",
     "text": [
      "enter your age: 32\n",
      "<class 'str'>\n",
      "your age in months is 323232323232323232323232\n"
     ]
    }
   ],
   "source": [
    "## get the user age and calculate months\n",
    "\n",
    "a = input(\"enter your age: \")\n",
    "print(type(a))\n",
    "months = a*12\n",
    "print(f\"your age in months is {months}\")\n"
   ]
  },
  {
   "cell_type": "code",
   "execution_count": 28,
   "id": "f2d83ab3",
   "metadata": {},
   "outputs": [
    {
     "name": "stdout",
     "output_type": "stream",
     "text": [
      "enter your age: 32\n",
      "<class 'int'>\n",
      "your age in months is 384\n"
     ]
    }
   ],
   "source": [
    "## get the user age and and calculate months\n",
    "\n",
    "a = int(input(\"enter your age: \"))\n",
    "print(type(a))\n",
    "months = a*12\n",
    "print(f\"your age in months is {months}\")"
   ]
  },
  {
   "cell_type": "markdown",
   "id": "1d26337b",
   "metadata": {},
   "source": [
    "## lists"
   ]
  },
  {
   "cell_type": "code",
   "execution_count": null,
   "id": "13a6138e",
   "metadata": {},
   "outputs": [],
   "source": [
    "## lists are something used to store the information... any type of information can be stored...\n",
    "# lists format is like \"[]\""
   ]
  },
  {
   "cell_type": "code",
   "execution_count": 29,
   "id": "5cddad63",
   "metadata": {},
   "outputs": [],
   "source": [
    "a = [\"python\",\"R\",\"Tableau\",\"Sql\",\"!@@\",\"1242423\",2323523]"
   ]
  },
  {
   "cell_type": "code",
   "execution_count": 30,
   "id": "ac8dcac9",
   "metadata": {},
   "outputs": [
    {
     "data": {
      "text/plain": [
       "list"
      ]
     },
     "execution_count": 30,
     "metadata": {},
     "output_type": "execute_result"
    }
   ],
   "source": [
    "type(a)"
   ]
  },
  {
   "cell_type": "code",
   "execution_count": 31,
   "id": "bae0f582",
   "metadata": {},
   "outputs": [
    {
     "data": {
      "text/plain": [
       "['python', 'R', 'Tableau', 'Sql', '!@@', '1242423', 2323523]"
      ]
     },
     "execution_count": 31,
     "metadata": {},
     "output_type": "execute_result"
    }
   ],
   "source": [
    "a"
   ]
  },
  {
   "cell_type": "code",
   "execution_count": 32,
   "id": "21a234d0",
   "metadata": {},
   "outputs": [],
   "source": [
    "a.append(\"smart contracts\")"
   ]
  },
  {
   "cell_type": "code",
   "execution_count": 33,
   "id": "7ea892d6",
   "metadata": {},
   "outputs": [
    {
     "data": {
      "text/plain": [
       "['python', 'R', 'Tableau', 'Sql', '!@@', '1242423', 2323523, 'smart contracts']"
      ]
     },
     "execution_count": 33,
     "metadata": {},
     "output_type": "execute_result"
    }
   ],
   "source": [
    "a"
   ]
  },
  {
   "cell_type": "code",
   "execution_count": 36,
   "id": "bd1eb1a3",
   "metadata": {},
   "outputs": [],
   "source": [
    "a.append([\"java script\",\"type script\"])"
   ]
  },
  {
   "cell_type": "code",
   "execution_count": 37,
   "id": "3b1fcb4f",
   "metadata": {},
   "outputs": [
    {
     "data": {
      "text/plain": [
       "['python',\n",
       " 'R',\n",
       " 'Tableau',\n",
       " 'Sql',\n",
       " '!@@',\n",
       " '1242423',\n",
       " 2323523,\n",
       " 'smart contracts',\n",
       " ['java script', 'type script'],\n",
       " ['java script', 'type script']]"
      ]
     },
     "execution_count": 37,
     "metadata": {},
     "output_type": "execute_result"
    }
   ],
   "source": [
    "a"
   ]
  },
  {
   "cell_type": "code",
   "execution_count": 40,
   "id": "52cf58cf",
   "metadata": {},
   "outputs": [
    {
     "data": {
      "text/plain": [
       "'type script'"
      ]
     },
     "execution_count": 40,
     "metadata": {},
     "output_type": "execute_result"
    }
   ],
   "source": [
    "a[8][1]"
   ]
  },
  {
   "cell_type": "code",
   "execution_count": 41,
   "id": "79da0bf8",
   "metadata": {},
   "outputs": [
    {
     "data": {
      "text/plain": [
       "['java script', 'type script']"
      ]
     },
     "execution_count": 41,
     "metadata": {},
     "output_type": "execute_result"
    }
   ],
   "source": [
    "a[-2]"
   ]
  },
  {
   "cell_type": "code",
   "execution_count": null,
   "id": "d3f93a1d",
   "metadata": {},
   "outputs": [],
   "source": [
    "# append is useful to insert the information if it is one word information it will store normally, \n",
    "# if it is two worded information or more information then it will create a new list inside..."
   ]
  },
  {
   "cell_type": "code",
   "execution_count": 42,
   "id": "2158e039",
   "metadata": {},
   "outputs": [
    {
     "data": {
      "text/plain": [
       "['python',\n",
       " 'R',\n",
       " 'Tableau',\n",
       " 'Sql',\n",
       " '!@@',\n",
       " '1242423',\n",
       " 2323523,\n",
       " 'smart contracts',\n",
       " ['java script', 'type script'],\n",
       " ['java script', 'type script']]"
      ]
     },
     "execution_count": 42,
     "metadata": {},
     "output_type": "execute_result"
    }
   ],
   "source": [
    "a"
   ]
  },
  {
   "cell_type": "code",
   "execution_count": 43,
   "id": "30c284cb",
   "metadata": {},
   "outputs": [],
   "source": [
    "a.insert(2,\"tensorflow\")"
   ]
  },
  {
   "cell_type": "code",
   "execution_count": 44,
   "id": "af66e4ee",
   "metadata": {},
   "outputs": [
    {
     "data": {
      "text/plain": [
       "['python',\n",
       " 'R',\n",
       " 'tensorflow',\n",
       " 'Tableau',\n",
       " 'Sql',\n",
       " '!@@',\n",
       " '1242423',\n",
       " 2323523,\n",
       " 'smart contracts',\n",
       " ['java script', 'type script'],\n",
       " ['java script', 'type script']]"
      ]
     },
     "execution_count": 44,
     "metadata": {},
     "output_type": "execute_result"
    }
   ],
   "source": [
    "a"
   ]
  },
  {
   "cell_type": "code",
   "execution_count": 45,
   "id": "9633c95d",
   "metadata": {},
   "outputs": [],
   "source": [
    "a.insert(3,\"pytorch\")"
   ]
  },
  {
   "cell_type": "code",
   "execution_count": 46,
   "id": "4a1db230",
   "metadata": {},
   "outputs": [
    {
     "data": {
      "text/plain": [
       "['python',\n",
       " 'R',\n",
       " 'tensorflow',\n",
       " 'pytorch',\n",
       " 'Tableau',\n",
       " 'Sql',\n",
       " '!@@',\n",
       " '1242423',\n",
       " 2323523,\n",
       " 'smart contracts',\n",
       " ['java script', 'type script'],\n",
       " ['java script', 'type script']]"
      ]
     },
     "execution_count": 46,
     "metadata": {},
     "output_type": "execute_result"
    }
   ],
   "source": [
    "a"
   ]
  },
  {
   "cell_type": "code",
   "execution_count": 47,
   "id": "6303b112",
   "metadata": {},
   "outputs": [],
   "source": [
    "a.insert(3,[\"ann\",\"perceptron\"])"
   ]
  },
  {
   "cell_type": "code",
   "execution_count": 48,
   "id": "f33990fd",
   "metadata": {},
   "outputs": [
    {
     "data": {
      "text/plain": [
       "['python',\n",
       " 'R',\n",
       " 'tensorflow',\n",
       " ['ann', 'perceptron'],\n",
       " 'pytorch',\n",
       " 'Tableau',\n",
       " 'Sql',\n",
       " '!@@',\n",
       " '1242423',\n",
       " 2323523,\n",
       " 'smart contracts',\n",
       " ['java script', 'type script'],\n",
       " ['java script', 'type script']]"
      ]
     },
     "execution_count": 48,
     "metadata": {},
     "output_type": "execute_result"
    }
   ],
   "source": [
    "a"
   ]
  },
  {
   "cell_type": "code",
   "execution_count": 49,
   "id": "811d0dae",
   "metadata": {},
   "outputs": [],
   "source": [
    "a.extend([\"blockchain\"])"
   ]
  },
  {
   "cell_type": "code",
   "execution_count": 50,
   "id": "ac7c22a1",
   "metadata": {},
   "outputs": [
    {
     "data": {
      "text/plain": [
       "['python',\n",
       " 'R',\n",
       " 'tensorflow',\n",
       " ['ann', 'perceptron'],\n",
       " 'pytorch',\n",
       " 'Tableau',\n",
       " 'Sql',\n",
       " '!@@',\n",
       " '1242423',\n",
       " 2323523,\n",
       " 'smart contracts',\n",
       " ['java script', 'type script'],\n",
       " ['java script', 'type script'],\n",
       " 'blockchain']"
      ]
     },
     "execution_count": 50,
     "metadata": {},
     "output_type": "execute_result"
    }
   ],
   "source": [
    "a"
   ]
  },
  {
   "cell_type": "code",
   "execution_count": 51,
   "id": "d2c4ee69",
   "metadata": {},
   "outputs": [],
   "source": [
    "a.extend([\"IOT\",\"A.I\"])"
   ]
  },
  {
   "cell_type": "code",
   "execution_count": 53,
   "id": "62f17bde",
   "metadata": {},
   "outputs": [
    {
     "data": {
      "text/plain": [
       "['python',\n",
       " 'R',\n",
       " 'tensorflow',\n",
       " ['ann', 'perceptron'],\n",
       " 'pytorch',\n",
       " 'Tableau',\n",
       " 'Sql',\n",
       " '!@@',\n",
       " '1242423',\n",
       " 2323523,\n",
       " 'smart contracts',\n",
       " ['java script', 'type script'],\n",
       " ['java script', 'type script'],\n",
       " 'blockchain',\n",
       " 'IOT',\n",
       " 'A.I']"
      ]
     },
     "execution_count": 53,
     "metadata": {},
     "output_type": "execute_result"
    }
   ],
   "source": [
    "a"
   ]
  },
  {
   "cell_type": "code",
   "execution_count": null,
   "id": "2a577317",
   "metadata": {},
   "outputs": [],
   "source": [
    "## extend is useful to extend the list..... like append it will not create another list inside the list\n",
    "## insert is useful to insert the information at the desired place but it also create another list if it has more elements\n",
    "## append is useful to insert the information in form of list(multiple elements) or normal format (single element)"
   ]
  },
  {
   "cell_type": "code",
   "execution_count": 54,
   "id": "3d00a23d",
   "metadata": {},
   "outputs": [
    {
     "data": {
      "text/plain": [
       "['python',\n",
       " 'R',\n",
       " 'tensorflow',\n",
       " ['ann', 'perceptron'],\n",
       " 'pytorch',\n",
       " 'Tableau',\n",
       " 'Sql',\n",
       " '!@@',\n",
       " '1242423',\n",
       " 2323523,\n",
       " 'smart contracts',\n",
       " ['java script', 'type script'],\n",
       " ['java script', 'type script'],\n",
       " 'blockchain',\n",
       " 'IOT',\n",
       " 'A.I']"
      ]
     },
     "execution_count": 54,
     "metadata": {},
     "output_type": "execute_result"
    }
   ],
   "source": [
    "a"
   ]
  },
  {
   "cell_type": "code",
   "execution_count": 55,
   "id": "1ba6fb5b",
   "metadata": {},
   "outputs": [
    {
     "data": {
      "text/plain": [
       "5"
      ]
     },
     "execution_count": 55,
     "metadata": {},
     "output_type": "execute_result"
    }
   ],
   "source": [
    "a.index('Tableau')"
   ]
  },
  {
   "cell_type": "code",
   "execution_count": 56,
   "id": "7315aff2",
   "metadata": {},
   "outputs": [
    {
     "data": {
      "text/plain": [
       "1"
      ]
     },
     "execution_count": 56,
     "metadata": {},
     "output_type": "execute_result"
    }
   ],
   "source": [
    "a.count('Tableau')"
   ]
  },
  {
   "cell_type": "code",
   "execution_count": 57,
   "id": "ab431021",
   "metadata": {},
   "outputs": [
    {
     "data": {
      "text/plain": [
       "['python',\n",
       " 'R',\n",
       " 'tensorflow',\n",
       " ['ann', 'perceptron'],\n",
       " 'pytorch',\n",
       " 'Tableau',\n",
       " 'Sql',\n",
       " '!@@',\n",
       " '1242423',\n",
       " 2323523,\n",
       " 'smart contracts',\n",
       " ['java script', 'type script'],\n",
       " ['java script', 'type script'],\n",
       " 'blockchain',\n",
       " 'IOT',\n",
       " 'A.I']"
      ]
     },
     "execution_count": 57,
     "metadata": {},
     "output_type": "execute_result"
    }
   ],
   "source": [
    "a"
   ]
  },
  {
   "cell_type": "code",
   "execution_count": 58,
   "id": "15a03c7c",
   "metadata": {},
   "outputs": [
    {
     "data": {
      "text/plain": [
       "'A.I'"
      ]
     },
     "execution_count": 58,
     "metadata": {},
     "output_type": "execute_result"
    }
   ],
   "source": [
    "a.pop()"
   ]
  },
  {
   "cell_type": "code",
   "execution_count": 59,
   "id": "744c56cd",
   "metadata": {},
   "outputs": [
    {
     "data": {
      "text/plain": [
       "['python',\n",
       " 'R',\n",
       " 'tensorflow',\n",
       " ['ann', 'perceptron'],\n",
       " 'pytorch',\n",
       " 'Tableau',\n",
       " 'Sql',\n",
       " '!@@',\n",
       " '1242423',\n",
       " 2323523,\n",
       " 'smart contracts',\n",
       " ['java script', 'type script'],\n",
       " ['java script', 'type script'],\n",
       " 'blockchain',\n",
       " 'IOT']"
      ]
     },
     "execution_count": 59,
     "metadata": {},
     "output_type": "execute_result"
    }
   ],
   "source": [
    "a"
   ]
  },
  {
   "cell_type": "code",
   "execution_count": 60,
   "id": "ceff520e",
   "metadata": {},
   "outputs": [
    {
     "data": {
      "text/plain": [
       "'tensorflow'"
      ]
     },
     "execution_count": 60,
     "metadata": {},
     "output_type": "execute_result"
    }
   ],
   "source": [
    "a.pop(2)"
   ]
  },
  {
   "cell_type": "code",
   "execution_count": 61,
   "id": "fbbfcd28",
   "metadata": {},
   "outputs": [
    {
     "data": {
      "text/plain": [
       "['python',\n",
       " 'R',\n",
       " ['ann', 'perceptron'],\n",
       " 'pytorch',\n",
       " 'Tableau',\n",
       " 'Sql',\n",
       " '!@@',\n",
       " '1242423',\n",
       " 2323523,\n",
       " 'smart contracts',\n",
       " ['java script', 'type script'],\n",
       " ['java script', 'type script'],\n",
       " 'blockchain',\n",
       " 'IOT']"
      ]
     },
     "execution_count": 61,
     "metadata": {},
     "output_type": "execute_result"
    }
   ],
   "source": [
    "a"
   ]
  },
  {
   "cell_type": "code",
   "execution_count": 62,
   "id": "606a403d",
   "metadata": {},
   "outputs": [
    {
     "data": {
      "text/plain": [
       "'Sql'"
      ]
     },
     "execution_count": 62,
     "metadata": {},
     "output_type": "execute_result"
    }
   ],
   "source": [
    "a.pop(5)"
   ]
  },
  {
   "cell_type": "code",
   "execution_count": 63,
   "id": "5a97320f",
   "metadata": {},
   "outputs": [
    {
     "data": {
      "text/plain": [
       "['python',\n",
       " 'R',\n",
       " ['ann', 'perceptron'],\n",
       " 'pytorch',\n",
       " 'Tableau',\n",
       " '!@@',\n",
       " '1242423',\n",
       " 2323523,\n",
       " 'smart contracts',\n",
       " ['java script', 'type script'],\n",
       " ['java script', 'type script'],\n",
       " 'blockchain',\n",
       " 'IOT']"
      ]
     },
     "execution_count": 63,
     "metadata": {},
     "output_type": "execute_result"
    }
   ],
   "source": [
    "a"
   ]
  },
  {
   "cell_type": "code",
   "execution_count": 66,
   "id": "199919f3",
   "metadata": {},
   "outputs": [
    {
     "data": {
      "text/plain": [
       "['java script', 'type script']"
      ]
     },
     "execution_count": 66,
     "metadata": {},
     "output_type": "execute_result"
    }
   ],
   "source": [
    "a.pop(-3)"
   ]
  },
  {
   "cell_type": "code",
   "execution_count": 67,
   "id": "b15aeb91",
   "metadata": {},
   "outputs": [
    {
     "data": {
      "text/plain": [
       "['python',\n",
       " 'R',\n",
       " ['ann', 'perceptron'],\n",
       " 'pytorch',\n",
       " 'Tableau',\n",
       " '!@@',\n",
       " '1242423',\n",
       " 2323523,\n",
       " 'smart contracts',\n",
       " 'blockchain',\n",
       " 'IOT']"
      ]
     },
     "execution_count": 67,
     "metadata": {},
     "output_type": "execute_result"
    }
   ],
   "source": [
    "a"
   ]
  },
  {
   "cell_type": "code",
   "execution_count": null,
   "id": "6e0ae641",
   "metadata": {},
   "outputs": [],
   "source": [
    "# python index always counts from 0 from left to right\n",
    "# when counting from right to left it starts from -1"
   ]
  },
  {
   "cell_type": "code",
   "execution_count": null,
   "id": "d5c67003",
   "metadata": {},
   "outputs": [],
   "source": [
    "# pop helps to remove the elements with the help of index that can be from left to right or right to left"
   ]
  },
  {
   "cell_type": "code",
   "execution_count": 68,
   "id": "31f1afbb",
   "metadata": {},
   "outputs": [
    {
     "data": {
      "text/plain": [
       "['python',\n",
       " 'R',\n",
       " ['ann', 'perceptron'],\n",
       " 'pytorch',\n",
       " 'Tableau',\n",
       " '!@@',\n",
       " '1242423',\n",
       " 2323523,\n",
       " 'smart contracts',\n",
       " 'blockchain',\n",
       " 'IOT']"
      ]
     },
     "execution_count": 68,
     "metadata": {},
     "output_type": "execute_result"
    }
   ],
   "source": [
    "a"
   ]
  },
  {
   "cell_type": "code",
   "execution_count": 69,
   "id": "7c00af11",
   "metadata": {},
   "outputs": [],
   "source": [
    "a.remove(\"blockchain\")"
   ]
  },
  {
   "cell_type": "code",
   "execution_count": 70,
   "id": "1f4fa5e5",
   "metadata": {},
   "outputs": [
    {
     "data": {
      "text/plain": [
       "['python',\n",
       " 'R',\n",
       " ['ann', 'perceptron'],\n",
       " 'pytorch',\n",
       " 'Tableau',\n",
       " '!@@',\n",
       " '1242423',\n",
       " 2323523,\n",
       " 'smart contracts',\n",
       " 'IOT']"
      ]
     },
     "execution_count": 70,
     "metadata": {},
     "output_type": "execute_result"
    }
   ],
   "source": [
    "a"
   ]
  },
  {
   "cell_type": "code",
   "execution_count": 71,
   "id": "76442217",
   "metadata": {},
   "outputs": [],
   "source": [
    "a.insert(3,\"java\")"
   ]
  },
  {
   "cell_type": "code",
   "execution_count": 72,
   "id": "ecc165ef",
   "metadata": {},
   "outputs": [
    {
     "data": {
      "text/plain": [
       "['python',\n",
       " 'R',\n",
       " ['ann', 'perceptron'],\n",
       " 'java',\n",
       " 'pytorch',\n",
       " 'Tableau',\n",
       " '!@@',\n",
       " '1242423',\n",
       " 2323523,\n",
       " 'smart contracts',\n",
       " 'IOT']"
      ]
     },
     "execution_count": 72,
     "metadata": {},
     "output_type": "execute_result"
    }
   ],
   "source": [
    "a"
   ]
  },
  {
   "cell_type": "code",
   "execution_count": 73,
   "id": "d6191ece",
   "metadata": {},
   "outputs": [],
   "source": [
    "a.remove('smart contracts')"
   ]
  },
  {
   "cell_type": "code",
   "execution_count": 74,
   "id": "7659b5bc",
   "metadata": {},
   "outputs": [
    {
     "data": {
      "text/plain": [
       "['python',\n",
       " 'R',\n",
       " ['ann', 'perceptron'],\n",
       " 'java',\n",
       " 'pytorch',\n",
       " 'Tableau',\n",
       " '!@@',\n",
       " '1242423',\n",
       " 2323523,\n",
       " 'IOT']"
      ]
     },
     "execution_count": 74,
     "metadata": {},
     "output_type": "execute_result"
    }
   ],
   "source": [
    "a"
   ]
  },
  {
   "cell_type": "code",
   "execution_count": 75,
   "id": "47948f55",
   "metadata": {},
   "outputs": [],
   "source": [
    "a = [5, 4, 2, 1, 3]\n",
    "\n",
    "a.reverse()"
   ]
  },
  {
   "cell_type": "code",
   "execution_count": 76,
   "id": "f3a10a3b",
   "metadata": {},
   "outputs": [
    {
     "data": {
      "text/plain": [
       "[3, 1, 2, 4, 5]"
      ]
     },
     "execution_count": 76,
     "metadata": {},
     "output_type": "execute_result"
    }
   ],
   "source": [
    "a"
   ]
  },
  {
   "cell_type": "code",
   "execution_count": 79,
   "id": "bc659616",
   "metadata": {},
   "outputs": [],
   "source": [
    "a = [9,8,10,12]\n",
    "\n",
    "a.sort(reverse=False)"
   ]
  },
  {
   "cell_type": "code",
   "execution_count": 80,
   "id": "d45d4c43",
   "metadata": {},
   "outputs": [
    {
     "data": {
      "text/plain": [
       "[8, 9, 10, 12]"
      ]
     },
     "execution_count": 80,
     "metadata": {},
     "output_type": "execute_result"
    }
   ],
   "source": [
    "a"
   ]
  },
  {
   "cell_type": "code",
   "execution_count": null,
   "id": "f0eac258",
   "metadata": {},
   "outputs": [],
   "source": [
    "## lists can be modified highly.... you can change as your wish"
   ]
  },
  {
   "cell_type": "code",
   "execution_count": 81,
   "id": "3f397696",
   "metadata": {},
   "outputs": [],
   "source": [
    "## insert\n",
    "## append\n",
    "## extend\n",
    "## pop\n",
    "## remove\n",
    "## reverse \n",
    "## sort\n",
    "\n",
    "## lists are mutable as they have option to edit, remove, add etc..."
   ]
  },
  {
   "cell_type": "markdown",
   "id": "cb2f0e29",
   "metadata": {},
   "source": [
    "## tuples"
   ]
  },
  {
   "cell_type": "code",
   "execution_count": 82,
   "id": "ba8104ca",
   "metadata": {},
   "outputs": [],
   "source": [
    "# tuples always starts with \"()\""
   ]
  },
  {
   "cell_type": "code",
   "execution_count": 83,
   "id": "854c5589",
   "metadata": {},
   "outputs": [],
   "source": [
    "a = (\"TCS\",\"HCL\",\"HCL\",\"IBM\")"
   ]
  },
  {
   "cell_type": "code",
   "execution_count": 84,
   "id": "57f8a450",
   "metadata": {},
   "outputs": [
    {
     "data": {
      "text/plain": [
       "('TCS', 'HCL', 'HCL', 'IBM')"
      ]
     },
     "execution_count": 84,
     "metadata": {},
     "output_type": "execute_result"
    }
   ],
   "source": [
    "a"
   ]
  },
  {
   "cell_type": "code",
   "execution_count": 85,
   "id": "19303bc0",
   "metadata": {},
   "outputs": [
    {
     "data": {
      "text/plain": [
       "tuple"
      ]
     },
     "execution_count": 85,
     "metadata": {},
     "output_type": "execute_result"
    }
   ],
   "source": [
    "type(a)"
   ]
  },
  {
   "cell_type": "code",
   "execution_count": 86,
   "id": "98f94ae0",
   "metadata": {},
   "outputs": [
    {
     "data": {
      "text/plain": [
       "2"
      ]
     },
     "execution_count": 86,
     "metadata": {},
     "output_type": "execute_result"
    }
   ],
   "source": [
    "a.count(\"HCL\")"
   ]
  },
  {
   "cell_type": "code",
   "execution_count": 87,
   "id": "db5b5ea1",
   "metadata": {},
   "outputs": [
    {
     "data": {
      "text/plain": [
       "3"
      ]
     },
     "execution_count": 87,
     "metadata": {},
     "output_type": "execute_result"
    }
   ],
   "source": [
    "a.index(\"IBM\")"
   ]
  },
  {
   "cell_type": "code",
   "execution_count": null,
   "id": "43e70713",
   "metadata": {},
   "outputs": [],
   "source": [
    "## tuples are immutable as they dont provide any option to modify or remove the information"
   ]
  },
  {
   "cell_type": "markdown",
   "id": "fbc01cb8",
   "metadata": {},
   "source": [
    "## sets"
   ]
  },
  {
   "cell_type": "code",
   "execution_count": 88,
   "id": "b7e7ddf4",
   "metadata": {},
   "outputs": [],
   "source": [
    "# in python sets format is \"{}\""
   ]
  },
  {
   "cell_type": "code",
   "execution_count": 89,
   "id": "f3d8eb6f",
   "metadata": {},
   "outputs": [],
   "source": [
    "a = {1,2,3,4,4,5}"
   ]
  },
  {
   "cell_type": "code",
   "execution_count": 90,
   "id": "8e5be045",
   "metadata": {},
   "outputs": [
    {
     "data": {
      "text/plain": [
       "{1, 2, 3, 4, 5}"
      ]
     },
     "execution_count": 90,
     "metadata": {},
     "output_type": "execute_result"
    }
   ],
   "source": [
    "a"
   ]
  },
  {
   "cell_type": "code",
   "execution_count": 91,
   "id": "026d5bdd",
   "metadata": {},
   "outputs": [],
   "source": [
    "b = {3,5,6,6,7,9}"
   ]
  },
  {
   "cell_type": "code",
   "execution_count": 92,
   "id": "2d4e2017",
   "metadata": {},
   "outputs": [
    {
     "data": {
      "text/plain": [
       "{3, 5, 6, 7, 9}"
      ]
     },
     "execution_count": 92,
     "metadata": {},
     "output_type": "execute_result"
    }
   ],
   "source": [
    "b"
   ]
  },
  {
   "cell_type": "code",
   "execution_count": 93,
   "id": "a99eb6b5",
   "metadata": {},
   "outputs": [
    {
     "data": {
      "text/plain": [
       "{3, 5}"
      ]
     },
     "execution_count": 93,
     "metadata": {},
     "output_type": "execute_result"
    }
   ],
   "source": [
    "a.intersection(b)"
   ]
  },
  {
   "cell_type": "code",
   "execution_count": 94,
   "id": "8bad741f",
   "metadata": {},
   "outputs": [
    {
     "data": {
      "text/plain": [
       "{3, 5}"
      ]
     },
     "execution_count": 94,
     "metadata": {},
     "output_type": "execute_result"
    }
   ],
   "source": [
    "b.intersection(a)"
   ]
  },
  {
   "cell_type": "code",
   "execution_count": 95,
   "id": "8622d789",
   "metadata": {},
   "outputs": [
    {
     "data": {
      "text/plain": [
       "{3, 5}"
      ]
     },
     "execution_count": 95,
     "metadata": {},
     "output_type": "execute_result"
    }
   ],
   "source": [
    "a&b"
   ]
  },
  {
   "cell_type": "code",
   "execution_count": 96,
   "id": "0cec8917",
   "metadata": {},
   "outputs": [
    {
     "data": {
      "text/plain": [
       "{1, 2, 3, 4, 5, 6, 7, 9}"
      ]
     },
     "execution_count": 96,
     "metadata": {},
     "output_type": "execute_result"
    }
   ],
   "source": [
    "a.union(b)"
   ]
  },
  {
   "cell_type": "code",
   "execution_count": 97,
   "id": "e064fb9e",
   "metadata": {},
   "outputs": [
    {
     "data": {
      "text/plain": [
       "{1, 2, 3, 4, 5, 6, 7, 9}"
      ]
     },
     "execution_count": 97,
     "metadata": {},
     "output_type": "execute_result"
    }
   ],
   "source": [
    "b.union(a)"
   ]
  },
  {
   "cell_type": "code",
   "execution_count": 98,
   "id": "ca9847f4",
   "metadata": {},
   "outputs": [
    {
     "data": {
      "text/plain": [
       "{1, 2, 3, 4, 5, 6, 7, 9}"
      ]
     },
     "execution_count": 98,
     "metadata": {},
     "output_type": "execute_result"
    }
   ],
   "source": [
    "a|b"
   ]
  },
  {
   "cell_type": "code",
   "execution_count": 99,
   "id": "fa77b539",
   "metadata": {},
   "outputs": [
    {
     "data": {
      "text/plain": [
       "({1, 2, 3, 4, 5}, {3, 5, 6, 7, 9})"
      ]
     },
     "execution_count": 99,
     "metadata": {},
     "output_type": "execute_result"
    }
   ],
   "source": [
    "a,b"
   ]
  },
  {
   "cell_type": "code",
   "execution_count": 100,
   "id": "445e0b28",
   "metadata": {},
   "outputs": [
    {
     "data": {
      "text/plain": [
       "{1, 2, 4}"
      ]
     },
     "execution_count": 100,
     "metadata": {},
     "output_type": "execute_result"
    }
   ],
   "source": [
    "a-b    ## once we remove common elements from both we will have a = {1,2,4} in b = {6,7,9}\n",
    "# BECAUSE IT IS a-b it considers the present elements only in a but not in b"
   ]
  },
  {
   "cell_type": "code",
   "execution_count": 101,
   "id": "69c69599",
   "metadata": {},
   "outputs": [
    {
     "data": {
      "text/plain": [
       "{6, 7, 9}"
      ]
     },
     "execution_count": 101,
     "metadata": {},
     "output_type": "execute_result"
    }
   ],
   "source": [
    "b-a  ## once we remove common elements from both we will have a = {1,2,4} in b = {6,7,9}\n",
    "# BECAUSE IT IS b-a it considers the present elements only in b but not in a"
   ]
  },
  {
   "cell_type": "code",
   "execution_count": 102,
   "id": "5b0677ed",
   "metadata": {},
   "outputs": [
    {
     "data": {
      "text/plain": [
       "{1, 2, 4}"
      ]
     },
     "execution_count": 102,
     "metadata": {},
     "output_type": "execute_result"
    }
   ],
   "source": [
    "a.difference(b)"
   ]
  },
  {
   "cell_type": "code",
   "execution_count": 103,
   "id": "d81ff177",
   "metadata": {},
   "outputs": [
    {
     "data": {
      "text/plain": [
       "{6, 7, 9}"
      ]
     },
     "execution_count": 103,
     "metadata": {},
     "output_type": "execute_result"
    }
   ],
   "source": [
    "b.difference(a)"
   ]
  },
  {
   "cell_type": "code",
   "execution_count": 104,
   "id": "70a8bece",
   "metadata": {},
   "outputs": [
    {
     "data": {
      "text/plain": [
       "{1, 2, 4, 6, 7, 9}"
      ]
     },
     "execution_count": 104,
     "metadata": {},
     "output_type": "execute_result"
    }
   ],
   "source": [
    "a.symmetric_difference(b)"
   ]
  },
  {
   "cell_type": "code",
   "execution_count": 105,
   "id": "52ac7229",
   "metadata": {},
   "outputs": [
    {
     "data": {
      "text/plain": [
       "{1, 2, 4, 6, 7, 9}"
      ]
     },
     "execution_count": 105,
     "metadata": {},
     "output_type": "execute_result"
    }
   ],
   "source": [
    "b.symmetric_difference(a)"
   ]
  },
  {
   "cell_type": "code",
   "execution_count": 110,
   "id": "cda434a2",
   "metadata": {},
   "outputs": [],
   "source": [
    "a = [1,2,3,4]\n",
    "b = [3,4,5,6]\n",
    "\n",
    "\n",
    "c = set(a)\n",
    "d = set(b)\n",
    "\n",
    "final_output = list(c.intersection(d))"
   ]
  },
  {
   "cell_type": "code",
   "execution_count": 111,
   "id": "d822a669",
   "metadata": {},
   "outputs": [
    {
     "data": {
      "text/plain": [
       "[3, 4]"
      ]
     },
     "execution_count": 111,
     "metadata": {},
     "output_type": "execute_result"
    }
   ],
   "source": [
    "final_output"
   ]
  },
  {
   "cell_type": "code",
   "execution_count": 112,
   "id": "25f5c6a6",
   "metadata": {},
   "outputs": [
    {
     "data": {
      "text/plain": [
       "{3, 4}"
      ]
     },
     "execution_count": 112,
     "metadata": {},
     "output_type": "execute_result"
    }
   ],
   "source": [
    "a = [1,2,3,4]\n",
    "b = [3,4,5,6]\n",
    "\n",
    "a = set(a)\n",
    "b = set(b)\n",
    "\n",
    "a.intersection(b)"
   ]
  },
  {
   "cell_type": "code",
   "execution_count": null,
   "id": "93d3aa17",
   "metadata": {},
   "outputs": [],
   "source": []
  },
  {
   "cell_type": "code",
   "execution_count": 113,
   "id": "b9a15b7a",
   "metadata": {},
   "outputs": [],
   "source": [
    "a = [1,2,3,4,5]\n",
    "b = [2,3,6,8,9]\n",
    "\n",
    "## find out the common elemnts from the above a and b"
   ]
  },
  {
   "cell_type": "code",
   "execution_count": 114,
   "id": "fd85899d",
   "metadata": {},
   "outputs": [
    {
     "data": {
      "text/plain": [
       "[2, 3]"
      ]
     },
     "execution_count": 114,
     "metadata": {},
     "output_type": "execute_result"
    }
   ],
   "source": [
    "c = set(a)\n",
    "d = set(b)\n",
    "\n",
    "final_ouput = list(c&d)\n",
    "final_ouput"
   ]
  },
  {
   "cell_type": "code",
   "execution_count": null,
   "id": "51ba7c76",
   "metadata": {},
   "outputs": [],
   "source": []
  },
  {
   "cell_type": "code",
   "execution_count": 115,
   "id": "bceebe7d",
   "metadata": {},
   "outputs": [
    {
     "data": {
      "text/plain": [
       "('TCS', 'IBM', 'HSBC')"
      ]
     },
     "execution_count": 115,
     "metadata": {},
     "output_type": "execute_result"
    }
   ],
   "source": [
    "a = ('TCS','IBM',\"HSBC\")\n",
    "a"
   ]
  },
  {
   "cell_type": "code",
   "execution_count": null,
   "id": "f83adae7",
   "metadata": {},
   "outputs": [],
   "source": [
    "# i want to add more elements into the above tuple but how??"
   ]
  },
  {
   "cell_type": "code",
   "execution_count": 116,
   "id": "cb5cc378",
   "metadata": {},
   "outputs": [
    {
     "name": "stdout",
     "output_type": "stream",
     "text": [
      "('TCS', 'IBM', 'HSBC', 'WIPRO', 'Deloitte')\n"
     ]
    }
   ],
   "source": [
    "b = list(a)\n",
    "b.extend([\"WIPRO\",\"Deloitte\"])\n",
    "\n",
    "a = tuple(b)\n",
    "print(a)"
   ]
  },
  {
   "cell_type": "code",
   "execution_count": 117,
   "id": "1cf83fad",
   "metadata": {},
   "outputs": [
    {
     "data": {
      "text/plain": [
       "('TCS', 'IBM', 'HSBC', 'WIPRO', 'Deloitte')"
      ]
     },
     "execution_count": 117,
     "metadata": {},
     "output_type": "execute_result"
    }
   ],
   "source": [
    "a"
   ]
  },
  {
   "cell_type": "code",
   "execution_count": null,
   "id": "4a1998c4",
   "metadata": {},
   "outputs": [],
   "source": []
  }
 ],
 "metadata": {
  "kernelspec": {
   "display_name": "Python 3 (ipykernel)",
   "language": "python",
   "name": "python3"
  },
  "language_info": {
   "codemirror_mode": {
    "name": "ipython",
    "version": 3
   },
   "file_extension": ".py",
   "mimetype": "text/x-python",
   "name": "python",
   "nbconvert_exporter": "python",
   "pygments_lexer": "ipython3",
   "version": "3.10.9"
  }
 },
 "nbformat": 4,
 "nbformat_minor": 5
}
