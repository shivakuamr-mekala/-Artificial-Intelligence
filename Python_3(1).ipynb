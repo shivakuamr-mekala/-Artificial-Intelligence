{
 "cells": [
  {
   "cell_type": "code",
   "execution_count": 1,
   "id": "cd2cad17",
   "metadata": {},
   "outputs": [],
   "source": [
    "## lists\n",
    "## tuples\n",
    "## sets"
   ]
  },
  {
   "cell_type": "code",
   "execution_count": 2,
   "id": "80f8d1d7",
   "metadata": {},
   "outputs": [],
   "source": [
    "# dict\n",
    "# loops\n",
    "# if else\n",
    "# list comprehensions"
   ]
  },
  {
   "cell_type": "code",
   "execution_count": 3,
   "id": "6e2136c1",
   "metadata": {},
   "outputs": [
    {
     "name": "stdout",
     "output_type": "stream",
     "text": [
      "{'Name': 'Python'}\n",
      "{'Age': 30}\n"
     ]
    }
   ],
   "source": [
    "# the dict format is {key:value}\n",
    "\n",
    "print({\"Name\":\"Python\"})\n",
    "print({\"Age\":30})"
   ]
  },
  {
   "cell_type": "code",
   "execution_count": 4,
   "id": "afee1ee4",
   "metadata": {},
   "outputs": [],
   "source": [
    "person = {\n",
    "    \"name\": \"Alice\",\n",
    "    \"age\": 30,\n",
    "    \"city\": \"Bangalore\"\n",
    "}\n",
    "\n"
   ]
  },
  {
   "cell_type": "code",
   "execution_count": 5,
   "id": "aa4effd6",
   "metadata": {},
   "outputs": [
    {
     "data": {
      "text/plain": [
       "{'name': 'Alice', 'age': 30, 'city': 'Bangalore'}"
      ]
     },
     "execution_count": 5,
     "metadata": {},
     "output_type": "execute_result"
    }
   ],
   "source": [
    "person"
   ]
  },
  {
   "cell_type": "code",
   "execution_count": null,
   "id": "6a4fd221",
   "metadata": {},
   "outputs": [],
   "source": []
  },
  {
   "cell_type": "code",
   "execution_count": 6,
   "id": "cf4bc7e2",
   "metadata": {},
   "outputs": [
    {
     "data": {
      "text/plain": [
       "dict_items([('name', 'Alice'), ('age', 30), ('city', 'Bangalore')])"
      ]
     },
     "execution_count": 6,
     "metadata": {},
     "output_type": "execute_result"
    }
   ],
   "source": [
    "person.items()"
   ]
  },
  {
   "cell_type": "code",
   "execution_count": 7,
   "id": "69fbeced",
   "metadata": {},
   "outputs": [
    {
     "data": {
      "text/plain": [
       "dict_keys(['name', 'age', 'city'])"
      ]
     },
     "execution_count": 7,
     "metadata": {},
     "output_type": "execute_result"
    }
   ],
   "source": [
    "person.keys()"
   ]
  },
  {
   "cell_type": "code",
   "execution_count": 8,
   "id": "9d4f1198",
   "metadata": {},
   "outputs": [
    {
     "data": {
      "text/plain": [
       "dict_values(['Alice', 30, 'Bangalore'])"
      ]
     },
     "execution_count": 8,
     "metadata": {},
     "output_type": "execute_result"
    }
   ],
   "source": [
    "person.values()"
   ]
  },
  {
   "cell_type": "code",
   "execution_count": 9,
   "id": "a5302db6",
   "metadata": {},
   "outputs": [
    {
     "data": {
      "text/plain": [
       "{'name': 'Alice', 'age': 30, 'city': 'Bangalore'}"
      ]
     },
     "execution_count": 9,
     "metadata": {},
     "output_type": "execute_result"
    }
   ],
   "source": [
    "person"
   ]
  },
  {
   "cell_type": "code",
   "execution_count": 10,
   "id": "877039aa",
   "metadata": {},
   "outputs": [
    {
     "data": {
      "text/plain": [
       "'Bangalore'"
      ]
     },
     "execution_count": 10,
     "metadata": {},
     "output_type": "execute_result"
    }
   ],
   "source": [
    "person[\"city\"]"
   ]
  },
  {
   "cell_type": "code",
   "execution_count": 11,
   "id": "4a3c58d0",
   "metadata": {},
   "outputs": [],
   "source": [
    "person[\"name\"] = [\"Alice\",\"BOB\"]"
   ]
  },
  {
   "cell_type": "code",
   "execution_count": 12,
   "id": "e4e6ded6",
   "metadata": {},
   "outputs": [
    {
     "data": {
      "text/plain": [
       "{'name': ['Alice', 'BOB'], 'age': 30, 'city': 'Bangalore'}"
      ]
     },
     "execution_count": 12,
     "metadata": {},
     "output_type": "execute_result"
    }
   ],
   "source": [
    "person"
   ]
  },
  {
   "cell_type": "code",
   "execution_count": null,
   "id": "1b8c2f9e",
   "metadata": {},
   "outputs": [],
   "source": []
  },
  {
   "cell_type": "code",
   "execution_count": 13,
   "id": "08bb5ab9",
   "metadata": {},
   "outputs": [
    {
     "data": {
      "text/plain": [
       "30"
      ]
     },
     "execution_count": 13,
     "metadata": {},
     "output_type": "execute_result"
    }
   ],
   "source": [
    "person[\"age\"]"
   ]
  },
  {
   "cell_type": "code",
   "execution_count": 14,
   "id": "bdb8865c",
   "metadata": {},
   "outputs": [],
   "source": [
    "person[\"Job\"] = \"Engineer\""
   ]
  },
  {
   "cell_type": "code",
   "execution_count": 15,
   "id": "5577271c",
   "metadata": {},
   "outputs": [
    {
     "data": {
      "text/plain": [
       "{'name': ['Alice', 'BOB'], 'age': 30, 'city': 'Bangalore', 'Job': 'Engineer'}"
      ]
     },
     "execution_count": 15,
     "metadata": {},
     "output_type": "execute_result"
    }
   ],
   "source": [
    "person"
   ]
  },
  {
   "cell_type": "code",
   "execution_count": 16,
   "id": "8fc7635d",
   "metadata": {},
   "outputs": [],
   "source": [
    "person[\"age\"] = 31"
   ]
  },
  {
   "cell_type": "code",
   "execution_count": 17,
   "id": "669520b2",
   "metadata": {},
   "outputs": [
    {
     "data": {
      "text/plain": [
       "{'name': ['Alice', 'BOB'], 'age': 31, 'city': 'Bangalore', 'Job': 'Engineer'}"
      ]
     },
     "execution_count": 17,
     "metadata": {},
     "output_type": "execute_result"
    }
   ],
   "source": [
    "person"
   ]
  },
  {
   "cell_type": "code",
   "execution_count": 18,
   "id": "616dce67",
   "metadata": {},
   "outputs": [],
   "source": [
    "person[\"city\"] = [\"Bangalore\",\"Hyderabad\"]"
   ]
  },
  {
   "cell_type": "code",
   "execution_count": 19,
   "id": "49875c6a",
   "metadata": {},
   "outputs": [
    {
     "data": {
      "text/plain": [
       "{'name': ['Alice', 'BOB'],\n",
       " 'age': 31,\n",
       " 'city': ['Bangalore', 'Hyderabad'],\n",
       " 'Job': 'Engineer'}"
      ]
     },
     "execution_count": 19,
     "metadata": {},
     "output_type": "execute_result"
    }
   ],
   "source": [
    "person"
   ]
  },
  {
   "cell_type": "code",
   "execution_count": 20,
   "id": "602ef4bf",
   "metadata": {},
   "outputs": [
    {
     "data": {
      "text/plain": [
       "'Hyderabad'"
      ]
     },
     "execution_count": 20,
     "metadata": {},
     "output_type": "execute_result"
    }
   ],
   "source": [
    "person[\"city\"][1]"
   ]
  },
  {
   "cell_type": "code",
   "execution_count": 21,
   "id": "322f273f",
   "metadata": {},
   "outputs": [],
   "source": [
    "del person[\"city\"][1]"
   ]
  },
  {
   "cell_type": "code",
   "execution_count": 22,
   "id": "c5443e68",
   "metadata": {},
   "outputs": [
    {
     "data": {
      "text/plain": [
       "{'name': ['Alice', 'BOB'], 'age': 31, 'city': ['Bangalore'], 'Job': 'Engineer'}"
      ]
     },
     "execution_count": 22,
     "metadata": {},
     "output_type": "execute_result"
    }
   ],
   "source": [
    "person"
   ]
  },
  {
   "cell_type": "code",
   "execution_count": 23,
   "id": "38416906",
   "metadata": {},
   "outputs": [
    {
     "data": {
      "text/plain": [
       "['Alice', 'BOB']"
      ]
     },
     "execution_count": 23,
     "metadata": {},
     "output_type": "execute_result"
    }
   ],
   "source": [
    "person.get(\"name\")"
   ]
  },
  {
   "cell_type": "code",
   "execution_count": 24,
   "id": "320e703e",
   "metadata": {},
   "outputs": [
    {
     "data": {
      "text/plain": [
       "31"
      ]
     },
     "execution_count": 24,
     "metadata": {},
     "output_type": "execute_result"
    }
   ],
   "source": [
    "person.get(\"age\")"
   ]
  },
  {
   "cell_type": "code",
   "execution_count": 25,
   "id": "62bec622",
   "metadata": {},
   "outputs": [
    {
     "data": {
      "text/plain": [
       "'Engineer'"
      ]
     },
     "execution_count": 25,
     "metadata": {},
     "output_type": "execute_result"
    }
   ],
   "source": [
    "person.get(\"Job\")"
   ]
  },
  {
   "cell_type": "code",
   "execution_count": 26,
   "id": "c5a5dbdc",
   "metadata": {},
   "outputs": [
    {
     "data": {
      "text/plain": [
       "'Engineer'"
      ]
     },
     "execution_count": 26,
     "metadata": {},
     "output_type": "execute_result"
    }
   ],
   "source": [
    "person.pop('Job')"
   ]
  },
  {
   "cell_type": "code",
   "execution_count": null,
   "id": "0bb9cc5b",
   "metadata": {},
   "outputs": [],
   "source": [
    "person"
   ]
  },
  {
   "cell_type": "code",
   "execution_count": null,
   "id": "526be7f7",
   "metadata": {},
   "outputs": [],
   "source": [
    "person.popitem()"
   ]
  },
  {
   "cell_type": "code",
   "execution_count": null,
   "id": "7165c10a",
   "metadata": {},
   "outputs": [],
   "source": [
    "person"
   ]
  },
  {
   "cell_type": "code",
   "execution_count": null,
   "id": "9d064046",
   "metadata": {},
   "outputs": [],
   "source": [
    "person.update({\"city\":\"HYD\",\"loc\":\"cyber\"})"
   ]
  },
  {
   "cell_type": "code",
   "execution_count": null,
   "id": "0a04e1e8",
   "metadata": {},
   "outputs": [],
   "source": [
    "person"
   ]
  },
  {
   "cell_type": "code",
   "execution_count": null,
   "id": "a04e3ae4",
   "metadata": {},
   "outputs": [],
   "source": [
    "person.update({\"city\":\"bglr\",\"loc\":\"itpl\"})"
   ]
  },
  {
   "cell_type": "code",
   "execution_count": null,
   "id": "0c971847",
   "metadata": {},
   "outputs": [],
   "source": [
    "person"
   ]
  },
  {
   "cell_type": "code",
   "execution_count": null,
   "id": "ad338aaf",
   "metadata": {},
   "outputs": [],
   "source": [
    "person[\"city\"] = \"chennai\""
   ]
  },
  {
   "cell_type": "code",
   "execution_count": null,
   "id": "73107192",
   "metadata": {},
   "outputs": [],
   "source": [
    "person"
   ]
  },
  {
   "cell_type": "code",
   "execution_count": null,
   "id": "3d096dc2",
   "metadata": {},
   "outputs": [],
   "source": [
    "type(person)"
   ]
  },
  {
   "cell_type": "code",
   "execution_count": null,
   "id": "012ae1fe",
   "metadata": {},
   "outputs": [],
   "source": []
  },
  {
   "cell_type": "raw",
   "id": "b296986d",
   "metadata": {},
   "source": [
    "b = {2,3}\n",
    "c = {3,4}\n",
    "\n",
    "my required output is {2,[3,3],4}\n",
    "\n",
    "## take your time"
   ]
  },
  {
   "cell_type": "code",
   "execution_count": null,
   "id": "d3c59675",
   "metadata": {},
   "outputs": [],
   "source": [
    "# loops"
   ]
  },
  {
   "cell_type": "code",
   "execution_count": null,
   "id": "ad54e679",
   "metadata": {},
   "outputs": [],
   "source": [
    "a = [1,2,3,4,5]\n",
    "## i want to increment every element by 10"
   ]
  },
  {
   "cell_type": "code",
   "execution_count": null,
   "id": "47dcf059",
   "metadata": {},
   "outputs": [],
   "source": [
    "b = []\n",
    "b.append(a[0]+10)\n",
    "b.append(a[1]+10)\n",
    "b.append(a[2]+10)\n",
    "b.append(a[3]+10)\n",
    "b.append(a[4]+10)"
   ]
  },
  {
   "cell_type": "code",
   "execution_count": null,
   "id": "6925af1f",
   "metadata": {},
   "outputs": [],
   "source": [
    "b"
   ]
  },
  {
   "cell_type": "code",
   "execution_count": null,
   "id": "e9331b74",
   "metadata": {},
   "outputs": [],
   "source": [
    "## for loop\n",
    "a = [1,2,3,4,5]\n",
    "\n",
    "for i in a:\n",
    "    print(i)"
   ]
  },
  {
   "cell_type": "code",
   "execution_count": null,
   "id": "7368f5b8",
   "metadata": {},
   "outputs": [],
   "source": [
    "a"
   ]
  },
  {
   "cell_type": "code",
   "execution_count": null,
   "id": "ff9fb542",
   "metadata": {},
   "outputs": [],
   "source": [
    "b = []\n",
    "for i in a:\n",
    "    b.append(i+10)"
   ]
  },
  {
   "cell_type": "code",
   "execution_count": null,
   "id": "7e8aabd1",
   "metadata": {},
   "outputs": [],
   "source": [
    "b"
   ]
  },
  {
   "cell_type": "code",
   "execution_count": null,
   "id": "1fefe939",
   "metadata": {},
   "outputs": [],
   "source": [
    "# range\n",
    "# range contains starting point and ending point , we always get output ending point - 1\n",
    "for i in range(1,5):\n",
    "    print(i)"
   ]
  },
  {
   "cell_type": "code",
   "execution_count": null,
   "id": "3cc9b652",
   "metadata": {},
   "outputs": [],
   "source": [
    "for i in range(3):\n",
    "    print(i)"
   ]
  },
  {
   "cell_type": "code",
   "execution_count": null,
   "id": "69ae0e85",
   "metadata": {},
   "outputs": [],
   "source": [
    "for i in range(2,5+2):\n",
    "    print(i)"
   ]
  },
  {
   "cell_type": "code",
   "execution_count": null,
   "id": "b93cbb0f",
   "metadata": {},
   "outputs": [],
   "source": [
    "d = {1,2,3,4}\n",
    "len(d)   # len helps us in finding the number of elements present "
   ]
  },
  {
   "cell_type": "code",
   "execution_count": null,
   "id": "26badadc",
   "metadata": {},
   "outputs": [],
   "source": [
    "A = [1,2,3,4,5]\n",
    "\n",
    "for i in range(len(A)):\n",
    "    print(i)\n",
    "    A[i]+=15\n",
    "#     A[i] = i + 15\n",
    "   \n",
    "    print(A)    \n"
   ]
  },
  {
   "cell_type": "code",
   "execution_count": null,
   "id": "4709cf56",
   "metadata": {},
   "outputs": [],
   "source": []
  },
  {
   "cell_type": "markdown",
   "id": "dcd2d372",
   "metadata": {},
   "source": [
    "## if else"
   ]
  },
  {
   "cell_type": "code",
   "execution_count": null,
   "id": "aadbcdd8",
   "metadata": {},
   "outputs": [],
   "source": [
    "# these are conditions\n",
    "\n",
    "number = -7   ## statement\n",
    "\n",
    "if number>0:  ## condition 1\n",
    "    print(\"positive\") ## print\n",
    "else:  # if the above \"if\" did not work, automatically the code willl check for else\n",
    "    print(\"negative\") # print"
   ]
  },
  {
   "cell_type": "code",
   "execution_count": null,
   "id": "231fbc52",
   "metadata": {},
   "outputs": [],
   "source": [
    "number =  int(input(\"enter your number: \"))\n",
    "\n",
    "if number>0:\n",
    "    print(\"positive\")\n",
    "else:\n",
    "    print(\"negative\")"
   ]
  },
  {
   "cell_type": "code",
   "execution_count": null,
   "id": "b2762938",
   "metadata": {},
   "outputs": [],
   "source": [
    "number = 20\n",
    "\n",
    "if number%2==0:\n",
    "    print(\"even\")\n",
    "else:\n",
    "    print(\"odd\")"
   ]
  },
  {
   "cell_type": "code",
   "execution_count": null,
   "id": "72dd30f9",
   "metadata": {},
   "outputs": [],
   "source": [
    "20%2"
   ]
  },
  {
   "cell_type": "code",
   "execution_count": null,
   "id": "9f5d39f1",
   "metadata": {},
   "outputs": [],
   "source": [
    "number = int(input(\"enter your number: \"))\n",
    "\n",
    "if number%2==0:\n",
    "    print(\"even\")\n",
    "else:\n",
    "    print(\"odd\")"
   ]
  },
  {
   "cell_type": "code",
   "execution_count": null,
   "id": "259fe194",
   "metadata": {},
   "outputs": [],
   "source": [
    "number = 0\n",
    "if number>0:\n",
    "    print(\"positive\")\n",
    "elif number==0:\n",
    "    print(\"neutral\")\n",
    "else:\n",
    "    print(\"negative\")"
   ]
  },
  {
   "cell_type": "code",
   "execution_count": null,
   "id": "d6b5d285",
   "metadata": {},
   "outputs": [],
   "source": [
    "numbers = [11,12,13,14,15]\n",
    "print(type(numbers))\n",
    "\n",
    "for i in numbers:\n",
    "    if i%2==0:\n",
    "        print(\"even\")\n",
    "    else:\n",
    "        print(\"odd\")"
   ]
  },
  {
   "cell_type": "code",
   "execution_count": null,
   "id": "b4ba4497",
   "metadata": {},
   "outputs": [],
   "source": [
    "numbers = [1,2,3,4,5]\n",
    "\n",
    "for i in numbers:\n",
    "    if i%2==0:\n",
    "        print(\"even\")\n",
    "    else:\n",
    "        print(\"odd\")"
   ]
  },
  {
   "cell_type": "code",
   "execution_count": null,
   "id": "cb62104a",
   "metadata": {},
   "outputs": [],
   "source": [
    "# obj:- take the input of marks of particular subject. and do average and put some conditions and give the grade\n",
    "\n",
    "\n",
    "M1 = int(input(\"Enter your M1 Marks: \"))\n",
    "P1 = int(input(\"Enter your P1 Marks: \"))\n",
    "C1 = int(input(\"Enter your C1 Marks: \"))\n",
    "\n",
    "\n",
    "AVG = sum([M1,P1,C1])/3\n",
    "\n",
    "print(AVG)\n",
    "if AVG >91:\n",
    "    print(\"Congratulations!! you got A+\")\n",
    "elif AVG >81 and AVG <=90:\n",
    "    print(\"Congratulations!! you got A\")\n",
    "elif AVG >71 and AVG <=80:\n",
    "    print(\"Congratulations!! you got B+\")\n",
    "elif AVG >61 and AVG <=70:\n",
    "    print(\"Congratulations!! you got B\")\n",
    "else:\n",
    "    print(\"Better luck next time\")"
   ]
  },
  {
   "cell_type": "code",
   "execution_count": null,
   "id": "13373f96",
   "metadata": {},
   "outputs": [],
   "source": [
    "## taks:- find the prime number\n",
    "\n",
    "# number = 7"
   ]
  },
  {
   "cell_type": "code",
   "execution_count": null,
   "id": "984bdab6",
   "metadata": {},
   "outputs": [],
   "source": []
  },
  {
   "cell_type": "code",
   "execution_count": null,
   "id": "2ef3160d",
   "metadata": {},
   "outputs": [],
   "source": [
    "# list comprehensions\n",
    "\n",
    "## we need to write the logic at the right side and print at left side"
   ]
  },
  {
   "cell_type": "code",
   "execution_count": null,
   "id": "38aa4597",
   "metadata": {},
   "outputs": [],
   "source": [
    "[i**2 for i in range(10)]"
   ]
  },
  {
   "cell_type": "code",
   "execution_count": null,
   "id": "c197b3fc",
   "metadata": {},
   "outputs": [],
   "source": []
  },
  {
   "cell_type": "code",
   "execution_count": null,
   "id": "6e002bf1",
   "metadata": {},
   "outputs": [],
   "source": [
    "[i**2 for i in range(10) if i%2==0]"
   ]
  },
  {
   "cell_type": "code",
   "execution_count": null,
   "id": "1c1883d3",
   "metadata": {},
   "outputs": [],
   "source": [
    "numbers = [1,2,3,4,5,6]\n",
    "\n",
    "even_odd = ['even' if i%2==0 else 'odd' for i in numbers]\n",
    "print(even_odd)"
   ]
  },
  {
   "cell_type": "code",
   "execution_count": null,
   "id": "d327521f",
   "metadata": {},
   "outputs": [],
   "source": []
  },
  {
   "cell_type": "code",
   "execution_count": null,
   "id": "c46e5eef",
   "metadata": {},
   "outputs": [],
   "source": [
    "numbers = [-1,-2,0,1,2,3]\n",
    "positive = [i for i in numbers if i>=0]\n",
    "print(positive)"
   ]
  },
  {
   "cell_type": "code",
   "execution_count": null,
   "id": "25a27164",
   "metadata": {},
   "outputs": [],
   "source": []
  },
  {
   "cell_type": "code",
   "execution_count": null,
   "id": "55615e22",
   "metadata": {},
   "outputs": [],
   "source": [
    "numbers = [-1,-2,0,1,2,3]\n",
    "non_negative = [i if i>=0 else 0 for i in numbers]\n",
    "print(non_negative)"
   ]
  },
  {
   "cell_type": "code",
   "execution_count": null,
   "id": "309b9fb8",
   "metadata": {},
   "outputs": [],
   "source": []
  },
  {
   "cell_type": "code",
   "execution_count": null,
   "id": "2f04a7f4",
   "metadata": {},
   "outputs": [],
   "source": [
    "numbers = [1,2,3,4,5,6,7,8,9,10]\n",
    "\n",
    "categories = [\"low\" if i<=5 else 'high' for i in numbers]\n",
    "print(categories)"
   ]
  },
  {
   "cell_type": "code",
   "execution_count": null,
   "id": "66a8195e",
   "metadata": {},
   "outputs": [],
   "source": []
  },
  {
   "cell_type": "code",
   "execution_count": null,
   "id": "30c90a1d",
   "metadata": {},
   "outputs": [],
   "source": []
  },
  {
   "cell_type": "code",
   "execution_count": null,
   "id": "17b97d31",
   "metadata": {},
   "outputs": [],
   "source": []
  },
  {
   "cell_type": "code",
   "execution_count": null,
   "id": "7c6786dc",
   "metadata": {},
   "outputs": [],
   "source": []
  },
  {
   "cell_type": "code",
   "execution_count": null,
   "id": "a34f6457",
   "metadata": {},
   "outputs": [],
   "source": []
  }
 ],
 "metadata": {
  "kernelspec": {
   "display_name": "Python 3 (ipykernel)",
   "language": "python",
   "name": "python3"
  },
  "language_info": {
   "codemirror_mode": {
    "name": "ipython",
    "version": 3
   },
   "file_extension": ".py",
   "mimetype": "text/x-python",
   "name": "python",
   "nbconvert_exporter": "python",
   "pygments_lexer": "ipython3",
   "version": "3.10.9"
  }
 },
 "nbformat": 4,
 "nbformat_minor": 5
}
