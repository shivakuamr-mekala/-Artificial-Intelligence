{
 "cells": [
  {
   "cell_type": "markdown",
   "id": "62b4bb35",
   "metadata": {},
   "source": [
    "## def"
   ]
  },
  {
   "cell_type": "code",
   "execution_count": null,
   "id": "76113638",
   "metadata": {},
   "outputs": [],
   "source": [
    "# functions are recallable, they help to repeat the process instead of writing code from scratch again"
   ]
  },
  {
   "cell_type": "code",
   "execution_count": 2,
   "id": "22961f9b",
   "metadata": {},
   "outputs": [],
   "source": [
    "def greet(name):\n",
    "    print(f\"Hello,{name}\")"
   ]
  },
  {
   "cell_type": "code",
   "execution_count": 9,
   "id": "d4dfd572",
   "metadata": {},
   "outputs": [
    {
     "name": "stdout",
     "output_type": "stream",
     "text": [
      "Hello,python\n"
     ]
    }
   ],
   "source": [
    "greet(\"python\")"
   ]
  },
  {
   "cell_type": "code",
   "execution_count": 4,
   "id": "6c36dc28",
   "metadata": {},
   "outputs": [
    {
     "name": "stdout",
     "output_type": "stream",
     "text": [
      "Hello,Excelr\n"
     ]
    }
   ],
   "source": [
    "greet(\"Excelr\")"
   ]
  },
  {
   "cell_type": "code",
   "execution_count": 5,
   "id": "1701a4b0",
   "metadata": {},
   "outputs": [
    {
     "name": "stdout",
     "output_type": "stream",
     "text": [
      "Hello,Ds_batch\n"
     ]
    }
   ],
   "source": [
    "greet(\"Ds_batch\")"
   ]
  },
  {
   "cell_type": "code",
   "execution_count": 6,
   "id": "a5769899",
   "metadata": {},
   "outputs": [
    {
     "name": "stdout",
     "output_type": "stream",
     "text": [
      "Hello,Da_Batch\n"
     ]
    }
   ],
   "source": [
    "greet(\"Da_Batch\")"
   ]
  },
  {
   "cell_type": "code",
   "execution_count": 7,
   "id": "b0f08d40",
   "metadata": {},
   "outputs": [
    {
     "name": "stdout",
     "output_type": "stream",
     "text": [
      "Hello,AI_Batch\n"
     ]
    }
   ],
   "source": [
    "greet(\"AI_Batch\")"
   ]
  },
  {
   "cell_type": "code",
   "execution_count": 10,
   "id": "47cc33cf",
   "metadata": {},
   "outputs": [],
   "source": [
    "def add(a,b):\n",
    "    return a+b"
   ]
  },
  {
   "cell_type": "code",
   "execution_count": 11,
   "id": "82fef642",
   "metadata": {},
   "outputs": [
    {
     "data": {
      "text/plain": [
       "7"
      ]
     },
     "execution_count": 11,
     "metadata": {},
     "output_type": "execute_result"
    }
   ],
   "source": [
    "add(3,4)"
   ]
  },
  {
   "cell_type": "code",
   "execution_count": 14,
   "id": "78cbe42b",
   "metadata": {},
   "outputs": [],
   "source": [
    "def power(base,exponent=2):\n",
    "    return base ** exponent"
   ]
  },
  {
   "cell_type": "code",
   "execution_count": 16,
   "id": "b10482b3",
   "metadata": {},
   "outputs": [
    {
     "data": {
      "text/plain": [
       "81"
      ]
     },
     "execution_count": 16,
     "metadata": {},
     "output_type": "execute_result"
    }
   ],
   "source": [
    "power(3,4)"
   ]
  },
  {
   "cell_type": "code",
   "execution_count": 17,
   "id": "505649c2",
   "metadata": {},
   "outputs": [
    {
     "data": {
      "text/plain": [
       "121"
      ]
     },
     "execution_count": 17,
     "metadata": {},
     "output_type": "execute_result"
    }
   ],
   "source": [
    "power(11)"
   ]
  },
  {
   "cell_type": "code",
   "execution_count": 18,
   "id": "c8ff3308",
   "metadata": {},
   "outputs": [],
   "source": [
    "def min_max(numbers):\n",
    "    return min(numbers),max(numbers)"
   ]
  },
  {
   "cell_type": "code",
   "execution_count": 19,
   "id": "d0bfe43d",
   "metadata": {},
   "outputs": [
    {
     "data": {
      "text/plain": [
       "(1, 9)"
      ]
     },
     "execution_count": 19,
     "metadata": {},
     "output_type": "execute_result"
    }
   ],
   "source": [
    "min_max([1,5,3,9,2])"
   ]
  },
  {
   "cell_type": "code",
   "execution_count": 20,
   "id": "b353e749",
   "metadata": {},
   "outputs": [
    {
     "data": {
      "text/plain": [
       "12"
      ]
     },
     "execution_count": 20,
     "metadata": {},
     "output_type": "execute_result"
    }
   ],
   "source": [
    "def product(a,b):\n",
    "    return a*b\n",
    "\n",
    "product(3,4)"
   ]
  },
  {
   "cell_type": "code",
   "execution_count": 21,
   "id": "e9ac270a",
   "metadata": {},
   "outputs": [],
   "source": [
    "mul = lambda x,y:x*y"
   ]
  },
  {
   "cell_type": "code",
   "execution_count": 22,
   "id": "17ee40b6",
   "metadata": {},
   "outputs": [
    {
     "data": {
      "text/plain": [
       "12"
      ]
     },
     "execution_count": 22,
     "metadata": {},
     "output_type": "execute_result"
    }
   ],
   "source": [
    "mul(3,4)"
   ]
  },
  {
   "cell_type": "code",
   "execution_count": null,
   "id": "e55c7138",
   "metadata": {},
   "outputs": [],
   "source": []
  },
  {
   "cell_type": "code",
   "execution_count": 23,
   "id": "97d49754",
   "metadata": {},
   "outputs": [
    {
     "data": {
      "text/plain": [
       "20"
      ]
     },
     "execution_count": 23,
     "metadata": {},
     "output_type": "execute_result"
    }
   ],
   "source": [
    "product(5,4)"
   ]
  },
  {
   "cell_type": "code",
   "execution_count": 24,
   "id": "10c66307",
   "metadata": {},
   "outputs": [],
   "source": [
    "def factorial(n):\n",
    "    # Check if 'n' is 0 or 1 (base case for recursion)\n",
    "    if n == 0 or n == 1:\n",
    "        # If 'n' is 0 or 1, return 1 because factorial of 0 and 1 is 1\n",
    "        return 1\n",
    "    else:\n",
    "        # If 'n' is greater than 1, recursively call 'factorial' with (n-1)\n",
    "        # Multiply 'n' by the factorial of (n-1)\n",
    "        return n * factorial(n - 1)"
   ]
  },
  {
   "cell_type": "code",
   "execution_count": 28,
   "id": "276fa801",
   "metadata": {},
   "outputs": [
    {
     "data": {
      "text/plain": [
       "120"
      ]
     },
     "execution_count": 28,
     "metadata": {},
     "output_type": "execute_result"
    }
   ],
   "source": [
    "factorial(5)"
   ]
  },
  {
   "cell_type": "code",
   "execution_count": 26,
   "id": "ccf9593f",
   "metadata": {},
   "outputs": [
    {
     "data": {
      "text/plain": [
       "120"
      ]
     },
     "execution_count": 26,
     "metadata": {},
     "output_type": "execute_result"
    }
   ],
   "source": [
    "5*4*3*2*1"
   ]
  },
  {
   "cell_type": "code",
   "execution_count": 29,
   "id": "c545ff7e",
   "metadata": {},
   "outputs": [
    {
     "data": {
      "text/plain": [
       "False"
      ]
     },
     "execution_count": 29,
     "metadata": {},
     "output_type": "execute_result"
    }
   ],
   "source": [
    "def is_even(number):\n",
    "    return number%2==0\n",
    "\n",
    "is_even(39401)"
   ]
  },
  {
   "cell_type": "code",
   "execution_count": 30,
   "id": "06b59aa0",
   "metadata": {},
   "outputs": [
    {
     "name": "stdout",
     "output_type": "stream",
     "text": [
      "odd\n",
      "even\n",
      "odd\n",
      "even\n",
      "odd\n"
     ]
    }
   ],
   "source": [
    "numbers = [1,2,3,4,5]\n",
    "\n",
    "def even_odd(numbers):\n",
    "    for i in numbers:\n",
    "        if i%2==0:\n",
    "            print(\"even\")\n",
    "        else:\n",
    "            print(\"odd\")\n",
    "\n",
    "            \n",
    "even_odd(numbers)"
   ]
  },
  {
   "cell_type": "code",
   "execution_count": 31,
   "id": "16dfba39",
   "metadata": {},
   "outputs": [
    {
     "name": "stdout",
     "output_type": "stream",
     "text": [
      "odd\n",
      "even\n",
      "odd\n",
      "even\n",
      "odd\n"
     ]
    }
   ],
   "source": [
    "even_odd([3,4,5,10,11])"
   ]
  },
  {
   "cell_type": "code",
   "execution_count": null,
   "id": "6e1eee74",
   "metadata": {},
   "outputs": [],
   "source": []
  },
  {
   "cell_type": "code",
   "execution_count": 32,
   "id": "79dedda2",
   "metadata": {},
   "outputs": [],
   "source": [
    "numbers = [2,4,3,1]\n",
    "def is_even(number):\n",
    "    return number%2==0\n",
    "\n",
    "even_numbers = [num for num in numbers if is_even(num)]\n",
    "odd_numbers = [num for num in numbers if not is_even(num)]"
   ]
  },
  {
   "cell_type": "code",
   "execution_count": 33,
   "id": "a492e3c4",
   "metadata": {},
   "outputs": [
    {
     "data": {
      "text/plain": [
       "[2, 4]"
      ]
     },
     "execution_count": 33,
     "metadata": {},
     "output_type": "execute_result"
    }
   ],
   "source": [
    "even_numbers"
   ]
  },
  {
   "cell_type": "code",
   "execution_count": 34,
   "id": "38343cf5",
   "metadata": {},
   "outputs": [
    {
     "data": {
      "text/plain": [
       "[3, 1]"
      ]
     },
     "execution_count": 34,
     "metadata": {},
     "output_type": "execute_result"
    }
   ],
   "source": [
    "odd_numbers"
   ]
  },
  {
   "cell_type": "code",
   "execution_count": 45,
   "id": "d631de3d",
   "metadata": {},
   "outputs": [
    {
     "name": "stdout",
     "output_type": "stream",
     "text": [
      "prime\n"
     ]
    }
   ],
   "source": [
    "prime = 8\n",
    "\n",
    "for i in range(2,prime):# for i in range(2,8)\n",
    "    if prime%i==0:## 7 % i means (2 to 7)\n",
    "        print(\"not a prime\")\n",
    "        break\n",
    "        \n",
    "else:\n",
    "    print(\"prime\")"
   ]
  },
  {
   "cell_type": "code",
   "execution_count": 57,
   "id": "4a6e2933",
   "metadata": {},
   "outputs": [
    {
     "data": {
      "text/plain": [
       "0"
      ]
     },
     "execution_count": 57,
     "metadata": {},
     "output_type": "execute_result"
    }
   ],
   "source": [
    "8%2"
   ]
  },
  {
   "cell_type": "code",
   "execution_count": null,
   "id": "05ec6178",
   "metadata": {},
   "outputs": [],
   "source": [
    "if\n",
    "else\n",
    "\n",
    "\n",
    "\n",
    "if one case\n",
    "\n",
    "\n",
    "else as another case"
   ]
  },
  {
   "cell_type": "code",
   "execution_count": 58,
   "id": "aded6231",
   "metadata": {},
   "outputs": [
    {
     "name": "stdout",
     "output_type": "stream",
     "text": [
      "2\n",
      "3\n",
      "4\n",
      "5\n",
      "6\n"
     ]
    }
   ],
   "source": [
    "for i in range(2,7):\n",
    "    print(i)"
   ]
  },
  {
   "cell_type": "code",
   "execution_count": null,
   "id": "3a17d800",
   "metadata": {},
   "outputs": [],
   "source": [
    "8%4"
   ]
  },
  {
   "cell_type": "code",
   "execution_count": null,
   "id": "6b144a8f",
   "metadata": {},
   "outputs": [],
   "source": []
  },
  {
   "cell_type": "code",
   "execution_count": 59,
   "id": "37c5f939",
   "metadata": {},
   "outputs": [],
   "source": [
    "def prime(x):\n",
    "    if x<=2:\n",
    "        return \"not prime\"\n",
    "\n",
    "    for i in range(2,x):\n",
    "        if x%i==0:\n",
    "            return \"not prime\"\n",
    "    return \"prime\""
   ]
  },
  {
   "cell_type": "code",
   "execution_count": 60,
   "id": "c658d99d",
   "metadata": {},
   "outputs": [
    {
     "data": {
      "text/plain": [
       "'prime'"
      ]
     },
     "execution_count": 60,
     "metadata": {},
     "output_type": "execute_result"
    }
   ],
   "source": [
    "prime(7)"
   ]
  },
  {
   "cell_type": "code",
   "execution_count": 61,
   "id": "d09ba77f",
   "metadata": {},
   "outputs": [
    {
     "data": {
      "text/plain": [
       "'not prime'"
      ]
     },
     "execution_count": 61,
     "metadata": {},
     "output_type": "execute_result"
    }
   ],
   "source": [
    "prime(6)"
   ]
  },
  {
   "cell_type": "code",
   "execution_count": 64,
   "id": "968d476c",
   "metadata": {},
   "outputs": [
    {
     "data": {
      "text/plain": [
       "'prime'"
      ]
     },
     "execution_count": 64,
     "metadata": {},
     "output_type": "execute_result"
    }
   ],
   "source": [
    "def is_prime(prime):\n",
    "    for i in range(2,prime):\n",
    "        if prime%i==0:\n",
    "            return False\n",
    "    return True \n",
    "\n",
    "def check_prime(number):\n",
    "    if is_prime(number):\n",
    "        return \"prime\"\n",
    "    else:\n",
    "        return \"not a prime\"\n",
    "    \n",
    "prime = 89\n",
    "check_prime(prime)"
   ]
  },
  {
   "cell_type": "code",
   "execution_count": 65,
   "id": "65a76639",
   "metadata": {},
   "outputs": [],
   "source": [
    "def calculator(operation,a,b):\n",
    "    if operation==\"add\":\n",
    "        return a+b\n",
    "    elif operation ==\"subtract\":\n",
    "        return a-b\n",
    "    elif operation ==\"multiply\":\n",
    "        return a*b\n",
    "    elif operation == \"divide\":\n",
    "        return a/b  if b!=0 else \"Error:Divison by zero\"\n",
    "    else:\n",
    "        return \"Error: Invalid operation\""
   ]
  },
  {
   "cell_type": "code",
   "execution_count": null,
   "id": "3f4178af",
   "metadata": {},
   "outputs": [],
   "source": []
  },
  {
   "cell_type": "code",
   "execution_count": 68,
   "id": "ac9c734d",
   "metadata": {},
   "outputs": [
    {
     "data": {
      "text/plain": [
       "'Error: Invalid operation'"
      ]
     },
     "execution_count": 68,
     "metadata": {},
     "output_type": "execute_result"
    }
   ],
   "source": [
    "calculator('divid',5,0)"
   ]
  },
  {
   "cell_type": "code",
   "execution_count": 69,
   "id": "d6c8b9b0",
   "metadata": {},
   "outputs": [],
   "source": [
    "a = \"we are learning python\""
   ]
  },
  {
   "cell_type": "code",
   "execution_count": 70,
   "id": "cd3ab533",
   "metadata": {},
   "outputs": [
    {
     "data": {
      "text/plain": [
       "'nohtyp gninrael era ew'"
      ]
     },
     "execution_count": 70,
     "metadata": {},
     "output_type": "execute_result"
    }
   ],
   "source": [
    "a[::-1]"
   ]
  },
  {
   "cell_type": "code",
   "execution_count": 71,
   "id": "ae750756",
   "metadata": {},
   "outputs": [
    {
     "data": {
      "text/plain": [
       "'amanaP :lanac a ,nalp a ,nam A'"
      ]
     },
     "execution_count": 71,
     "metadata": {},
     "output_type": "execute_result"
    }
   ],
   "source": [
    "def reverse_string(text):\n",
    "    return text[::-1]\n",
    "\n",
    "reverse_string(\"A man, a plan, a canal: Panama\")"
   ]
  },
  {
   "cell_type": "code",
   "execution_count": null,
   "id": "9caadb95",
   "metadata": {},
   "outputs": [],
   "source": []
  },
  {
   "cell_type": "code",
   "execution_count": null,
   "id": "53f01db6",
   "metadata": {},
   "outputs": [],
   "source": []
  },
  {
   "cell_type": "code",
   "execution_count": 72,
   "id": "19082076",
   "metadata": {},
   "outputs": [
    {
     "data": {
      "text/plain": [
       "77.0"
      ]
     },
     "execution_count": 72,
     "metadata": {},
     "output_type": "execute_result"
    }
   ],
   "source": [
    "def celsius_to_fahrenheit(celsius):\n",
    "    return (celsius*9/5)+32\n",
    "\n",
    "celsius_to_fahrenheit(25)"
   ]
  },
  {
   "cell_type": "code",
   "execution_count": 74,
   "id": "9a415244",
   "metadata": {},
   "outputs": [],
   "source": [
    "# A man, a plan, a canal:"
   ]
  },
  {
   "cell_type": "code",
   "execution_count": 75,
   "id": "cd2852d3",
   "metadata": {},
   "outputs": [],
   "source": [
    "# palindrome\n",
    "def is_palindrome(text):\n",
    "    cleaned_text = ''.join(char.lower() for char in text if char.isalnum())\n",
    "    print(f\"this is my cleaned text: {cleaned_text}\")\n",
    "    return cleaned_text == cleaned_text[::-1]\n",
    "\n",
    "def test_palindrome():\n",
    "    test_cases = [\n",
    "        \"A man, a plan, a canal: Panama\",\n",
    "        \"race a car\",\n",
    "        \"hello\",\n",
    "        \"12321\",\n",
    "        \"python\",\n",
    "        \"racecar\"\n",
    "    ]\n",
    "    for case in test_cases:\n",
    "        result = \"is\" if is_palindrome(case) else \"is not\"\n",
    "        print(result)\n",
    "        print(f\"'{case}' {result} a palindrome.\")"
   ]
  },
  {
   "cell_type": "code",
   "execution_count": null,
   "id": "6d843d68",
   "metadata": {},
   "outputs": [],
   "source": []
  },
  {
   "cell_type": "code",
   "execution_count": 76,
   "id": "aedf3c18",
   "metadata": {},
   "outputs": [
    {
     "name": "stdout",
     "output_type": "stream",
     "text": [
      "this is my cleaned text: amanaplanacanalpanama\n",
      "is\n",
      "'A man, a plan, a canal: Panama' is a palindrome.\n",
      "this is my cleaned text: raceacar\n",
      "is not\n",
      "'race a car' is not a palindrome.\n",
      "this is my cleaned text: hello\n",
      "is not\n",
      "'hello' is not a palindrome.\n",
      "this is my cleaned text: 12321\n",
      "is\n",
      "'12321' is a palindrome.\n",
      "this is my cleaned text: python\n",
      "is not\n",
      "'python' is not a palindrome.\n",
      "this is my cleaned text: racecar\n",
      "is\n",
      "'racecar' is a palindrome.\n"
     ]
    }
   ],
   "source": [
    "test_palindrome()"
   ]
  },
  {
   "cell_type": "code",
   "execution_count": null,
   "id": "b9439ff4",
   "metadata": {},
   "outputs": [],
   "source": [
    "# convert into lowercase\n",
    "# remove all non alphanumerica characters using isalnum()\n",
    "#join characters into single string\n",
    "# we then compare this cleaned string with its reverse cleaned_text == cleaned_text[::-1]\n"
   ]
  },
  {
   "cell_type": "code",
   "execution_count": null,
   "id": "5d471a4e",
   "metadata": {},
   "outputs": [],
   "source": []
  },
  {
   "cell_type": "code",
   "execution_count": null,
   "id": "30a997a1",
   "metadata": {},
   "outputs": [],
   "source": [
    "# zip function\n",
    "# enumerate"
   ]
  },
  {
   "cell_type": "code",
   "execution_count": 77,
   "id": "3b8a8fdf",
   "metadata": {},
   "outputs": [
    {
     "name": "stdout",
     "output_type": "stream",
     "text": [
      "python is 20 years old\n",
      "java is 30 years old\n",
      "javascript is 25 years old\n"
     ]
    }
   ],
   "source": [
    "names = [\"python\",\"java\",\"javascript\"]\n",
    "ages = [20,30,25]\n",
    "\n",
    "for name,age in zip(names,ages):\n",
    "    print(f\"{name} is {age} years old\")"
   ]
  },
  {
   "cell_type": "code",
   "execution_count": 78,
   "id": "fc4ba7b3",
   "metadata": {},
   "outputs": [
    {
     "data": {
      "text/plain": [
       "{'python': 20, 'java': 30, 'javascript': 25}"
      ]
     },
     "execution_count": 78,
     "metadata": {},
     "output_type": "execute_result"
    }
   ],
   "source": [
    "dict(zip(names,ages))"
   ]
  },
  {
   "cell_type": "code",
   "execution_count": 79,
   "id": "f69ffeb9",
   "metadata": {},
   "outputs": [],
   "source": [
    "list1 = [1,2,3,4,5]\n",
    "list2 = ['a','b','c']"
   ]
  },
  {
   "cell_type": "code",
   "execution_count": 80,
   "id": "eb165c65",
   "metadata": {},
   "outputs": [
    {
     "data": {
      "text/plain": [
       "[(1, 'a'), (2, 'b'), (3, 'c')]"
      ]
     },
     "execution_count": 80,
     "metadata": {},
     "output_type": "execute_result"
    }
   ],
   "source": [
    "list(zip(list1,list2))"
   ]
  },
  {
   "cell_type": "code",
   "execution_count": null,
   "id": "c7e1eee1",
   "metadata": {},
   "outputs": [],
   "source": []
  },
  {
   "cell_type": "code",
   "execution_count": 81,
   "id": "85124e99",
   "metadata": {},
   "outputs": [
    {
     "data": {
      "text/plain": [
       "{1: 'a', 2: 'b', 3: 'c'}"
      ]
     },
     "execution_count": 81,
     "metadata": {},
     "output_type": "execute_result"
    }
   ],
   "source": [
    "dict(zip(list1,list2))"
   ]
  },
  {
   "cell_type": "code",
   "execution_count": 82,
   "id": "840b52ad",
   "metadata": {},
   "outputs": [],
   "source": [
    "pairs = [(1, 'a'), (2, 'b'), (3, 'c')]\n",
    "\n",
    "numbers,letters = zip(*pairs)"
   ]
  },
  {
   "cell_type": "code",
   "execution_count": 83,
   "id": "45a6aa8c",
   "metadata": {},
   "outputs": [
    {
     "data": {
      "text/plain": [
       "(1, 2, 3)"
      ]
     },
     "execution_count": 83,
     "metadata": {},
     "output_type": "execute_result"
    }
   ],
   "source": [
    "numbers"
   ]
  },
  {
   "cell_type": "code",
   "execution_count": 84,
   "id": "c710ee5d",
   "metadata": {},
   "outputs": [
    {
     "data": {
      "text/plain": [
       "('a', 'b', 'c')"
      ]
     },
     "execution_count": 84,
     "metadata": {},
     "output_type": "execute_result"
    }
   ],
   "source": [
    "letters"
   ]
  },
  {
   "cell_type": "code",
   "execution_count": 85,
   "id": "0dad5fd2",
   "metadata": {},
   "outputs": [
    {
     "name": "stdout",
     "output_type": "stream",
     "text": [
      "1 is 20 years old and lives in a\n",
      "2 is 30 years old and lives in b\n",
      "3 is 25 years old and lives in c\n"
     ]
    }
   ],
   "source": [
    "list1 = [1,2,3,4,5]\n",
    "list2 = ['a','b','c']\n",
    "ages = [20,30,25]\n",
    "\n",
    "for i,j,k in zip(list1,list2,ages):\n",
    "    print(f\"{i} is {k} years old and lives in {j}\")"
   ]
  },
  {
   "cell_type": "code",
   "execution_count": null,
   "id": "fdeb149b",
   "metadata": {},
   "outputs": [],
   "source": []
  },
  {
   "cell_type": "code",
   "execution_count": 86,
   "id": "e0f050f5",
   "metadata": {},
   "outputs": [
    {
     "name": "stdout",
     "output_type": "stream",
     "text": [
      "0 apple\n",
      "1 banana\n",
      "2 cherry\n"
     ]
    }
   ],
   "source": [
    "fruits = ['apple','banana','cherry']\n",
    "\n",
    "for index,fruit in enumerate(fruits):\n",
    "#     print(f\"Index {index}: {fruit}\")\n",
    "      print(index,fruit)"
   ]
  },
  {
   "cell_type": "code",
   "execution_count": null,
   "id": "a3ab1aac",
   "metadata": {},
   "outputs": [],
   "source": []
  },
  {
   "cell_type": "code",
   "execution_count": 87,
   "id": "a22ecc5a",
   "metadata": {},
   "outputs": [
    {
     "name": "stdout",
     "output_type": "stream",
     "text": [
      "Position 0: p\n",
      "Position 1: y\n",
      "Position 2: t\n",
      "Position 3: h\n",
      "Position 4: o\n",
      "Position 5: n\n"
     ]
    }
   ],
   "source": [
    "word = \"python\"\n",
    "\n",
    "for position,letter in enumerate(word):\n",
    "    print(f\"Position {position}: {letter}\")"
   ]
  },
  {
   "cell_type": "code",
   "execution_count": 88,
   "id": "9db2de77",
   "metadata": {},
   "outputs": [
    {
     "data": {
      "text/plain": [
       "{0: 'cat', 1: 'dog', 2: 'elephant'}"
      ]
     },
     "execution_count": 88,
     "metadata": {},
     "output_type": "execute_result"
    }
   ],
   "source": [
    "animals = ['cat','dog','elephant']\n",
    "dict(enumerate(animals))"
   ]
  },
  {
   "cell_type": "code",
   "execution_count": 89,
   "id": "b3b154d4",
   "metadata": {},
   "outputs": [
    {
     "data": {
      "text/plain": [
       "[(0, 'cat'), (1, 'dog'), (2, 'elephant')]"
      ]
     },
     "execution_count": 89,
     "metadata": {},
     "output_type": "execute_result"
    }
   ],
   "source": [
    "list(enumerate(animals))"
   ]
  },
  {
   "cell_type": "code",
   "execution_count": 90,
   "id": "223ef3dd",
   "metadata": {},
   "outputs": [
    {
     "data": {
      "text/plain": [
       "((0, 'cat'), (1, 'dog'), (2, 'elephant'))"
      ]
     },
     "execution_count": 90,
     "metadata": {},
     "output_type": "execute_result"
    }
   ],
   "source": [
    "tuple(enumerate(animals))"
   ]
  },
  {
   "cell_type": "code",
   "execution_count": null,
   "id": "44882e66",
   "metadata": {},
   "outputs": [],
   "source": []
  },
  {
   "cell_type": "code",
   "execution_count": 91,
   "id": "e2b61586",
   "metadata": {},
   "outputs": [
    {
     "name": "stdout",
     "output_type": "stream",
     "text": [
      "[(0, 100), (1, 400), (2, 900), (3, 1600)]\n"
     ]
    }
   ],
   "source": [
    "numbers = [10,20,30,40]\n",
    "\n",
    "squared_numbers = [(index,number**2) for index,number in enumerate(numbers)]\n",
    "print(squared_numbers)"
   ]
  },
  {
   "cell_type": "code",
   "execution_count": null,
   "id": "238fab3b",
   "metadata": {},
   "outputs": [],
   "source": []
  },
  {
   "cell_type": "code",
   "execution_count": 92,
   "id": "2851522b",
   "metadata": {},
   "outputs": [
    {
     "name": "stdout",
     "output_type": "stream",
     "text": [
      " point 0: (1,2)\n",
      " point 1: (3,4)\n",
      " point 2: (5,6)\n"
     ]
    }
   ],
   "source": [
    "points = [(1,2),(3,4),(5,6)] \n",
    "\n",
    "for i, (j,k) in enumerate(points): \n",
    "    print(f\" point {i}: ({j},{k})\") "
   ]
  },
  {
   "cell_type": "code",
   "execution_count": null,
   "id": "6a403b83",
   "metadata": {},
   "outputs": [],
   "source": []
  },
  {
   "cell_type": "code",
   "execution_count": null,
   "id": "f8bbebc0",
   "metadata": {},
   "outputs": [],
   "source": [
    "# strings\n",
    "# int\n",
    "# float\n",
    "# user input method\n",
    "# variables\n",
    "# lists\n",
    "# tuples\n",
    "# sets\n",
    "# dict\n",
    "# loops\n",
    "# if else elif\n",
    "# list comprehensions\n",
    "# lambda\n",
    "# def \n",
    "# zip\n",
    "# enumerate\n",
    "\n",
    "# 70% of python\n",
    "\n",
    "# 5 questions  per day it is 150 different questions you have solved...."
   ]
  },
  {
   "cell_type": "code",
   "execution_count": null,
   "id": "ee0d3913",
   "metadata": {},
   "outputs": [],
   "source": []
  },
  {
   "cell_type": "code",
   "execution_count": null,
   "id": "b09bcf67",
   "metadata": {},
   "outputs": [],
   "source": [
    "# webdevelopment\n",
    "# gaming\n",
    "# cyber security\n",
    "# data science"
   ]
  },
  {
   "cell_type": "code",
   "execution_count": null,
   "id": "90ce370f",
   "metadata": {},
   "outputs": [],
   "source": []
  },
  {
   "cell_type": "code",
   "execution_count": null,
   "id": "9b7336b5",
   "metadata": {},
   "outputs": [],
   "source": []
  },
  {
   "cell_type": "code",
   "execution_count": null,
   "id": "3b6a543d",
   "metadata": {},
   "outputs": [],
   "source": []
  },
  {
   "cell_type": "code",
   "execution_count": null,
   "id": "ed235267",
   "metadata": {},
   "outputs": [],
   "source": []
  },
  {
   "cell_type": "code",
   "execution_count": null,
   "id": "7a7cee1b",
   "metadata": {},
   "outputs": [],
   "source": []
  }
 ],
 "metadata": {
  "kernelspec": {
   "display_name": "Python 3 (ipykernel)",
   "language": "python",
   "name": "python3"
  },
  "language_info": {
   "codemirror_mode": {
    "name": "ipython",
    "version": 3
   },
   "file_extension": ".py",
   "mimetype": "text/x-python",
   "name": "python",
   "nbconvert_exporter": "python",
   "pygments_lexer": "ipython3",
   "version": "3.10.9"
  }
 },
 "nbformat": 4,
 "nbformat_minor": 5
}
